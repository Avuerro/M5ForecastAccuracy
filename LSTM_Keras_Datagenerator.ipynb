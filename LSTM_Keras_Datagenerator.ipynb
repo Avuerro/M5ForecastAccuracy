{
 "cells": [
  {
   "cell_type": "code",
   "execution_count": 10,
   "metadata": {},
   "outputs": [],
   "source": [
    "import numpy as np\n",
    "import pandas as pd\n",
    "from sklearn.preprocessing import StandardScaler, MinMaxScaler\n",
    "from sklearn.model_selection import train_test_split\n",
    "from keras.models import Sequential\n",
    "from keras.layers import LSTM, Dense, Bidirectional, Conv1D, MaxPooling1D, Flatten, TimeDistributed, RepeatVector\n",
    "import keras\n",
    "from tensorflow.keras.utils import Sequence\n",
    "import math\n",
    "import os\n",
    "import tensorflow as tf"
   ]
  },
  {
   "cell_type": "code",
   "execution_count": 11,
   "metadata": {},
   "outputs": [],
   "source": [
    "\n",
    "## specify data_dir\n",
    "data_dir = '../code/data/'\n",
    "\n",
    "## npz file\n",
    "filename = 'lstm_x_and_y.npz'\n",
    "\n",
    "#initialize x and y\n",
    "X = []\n",
    "Y = []\n"
   ]
  },
  {
   "cell_type": "code",
   "execution_count": 4,
   "metadata": {},
   "outputs": [],
   "source": [
    "# ## load the data <-- this does not work unfortunately, kernel keeps dying..\n",
    "# with np.load(os.path.join(data_dir,filename)) as data:\n",
    "#     X = data['arr_0']\n",
    "#     Y = data['arr_1']\n",
    "    "
   ]
  },
  {
   "cell_type": "code",
   "execution_count": 5,
   "metadata": {},
   "outputs": [],
   "source": [
    "train_sales = pd.read_csv(data_dir + 'sales_train_validation.csv')\n",
    "#sell_prices = pd.read_csv(data_dir + 'sell_prices.csv')\n",
    "#calendar = pd.read_csv(data_dir + 'calendar.csv')\n",
    "submission_file = pd.read_csv(data_dir + 'sample_submission.csv')\n",
    "eval_file = pd.read_csv(data_dir + 'sales_train_evaluation.csv')"
   ]
  },
  {
   "cell_type": "code",
   "execution_count": 6,
   "metadata": {},
   "outputs": [
    {
     "data": {
      "text/html": [
       "<div>\n",
       "<style scoped>\n",
       "    .dataframe tbody tr th:only-of-type {\n",
       "        vertical-align: middle;\n",
       "    }\n",
       "\n",
       "    .dataframe tbody tr th {\n",
       "        vertical-align: top;\n",
       "    }\n",
       "\n",
       "    .dataframe thead th {\n",
       "        text-align: right;\n",
       "    }\n",
       "</style>\n",
       "<table border=\"1\" class=\"dataframe\">\n",
       "  <thead>\n",
       "    <tr style=\"text-align: right;\">\n",
       "      <th></th>\n",
       "      <th>0</th>\n",
       "      <th>1</th>\n",
       "      <th>2</th>\n",
       "      <th>3</th>\n",
       "      <th>4</th>\n",
       "      <th>5</th>\n",
       "      <th>6</th>\n",
       "      <th>7</th>\n",
       "      <th>8</th>\n",
       "      <th>9</th>\n",
       "      <th>...</th>\n",
       "      <th>30480</th>\n",
       "      <th>30481</th>\n",
       "      <th>30482</th>\n",
       "      <th>30483</th>\n",
       "      <th>30484</th>\n",
       "      <th>30485</th>\n",
       "      <th>30486</th>\n",
       "      <th>30487</th>\n",
       "      <th>30488</th>\n",
       "      <th>30489</th>\n",
       "    </tr>\n",
       "  </thead>\n",
       "  <tbody>\n",
       "    <tr>\n",
       "      <th>d_1</th>\n",
       "      <td>0</td>\n",
       "      <td>0</td>\n",
       "      <td>0</td>\n",
       "      <td>0</td>\n",
       "      <td>0</td>\n",
       "      <td>0</td>\n",
       "      <td>0</td>\n",
       "      <td>12</td>\n",
       "      <td>2</td>\n",
       "      <td>0</td>\n",
       "      <td>...</td>\n",
       "      <td>0</td>\n",
       "      <td>14</td>\n",
       "      <td>1</td>\n",
       "      <td>0</td>\n",
       "      <td>4</td>\n",
       "      <td>0</td>\n",
       "      <td>0</td>\n",
       "      <td>0</td>\n",
       "      <td>0</td>\n",
       "      <td>0</td>\n",
       "    </tr>\n",
       "    <tr>\n",
       "      <th>d_2</th>\n",
       "      <td>0</td>\n",
       "      <td>0</td>\n",
       "      <td>0</td>\n",
       "      <td>0</td>\n",
       "      <td>0</td>\n",
       "      <td>0</td>\n",
       "      <td>0</td>\n",
       "      <td>15</td>\n",
       "      <td>0</td>\n",
       "      <td>0</td>\n",
       "      <td>...</td>\n",
       "      <td>0</td>\n",
       "      <td>11</td>\n",
       "      <td>1</td>\n",
       "      <td>0</td>\n",
       "      <td>4</td>\n",
       "      <td>0</td>\n",
       "      <td>0</td>\n",
       "      <td>6</td>\n",
       "      <td>0</td>\n",
       "      <td>0</td>\n",
       "    </tr>\n",
       "    <tr>\n",
       "      <th>d_3</th>\n",
       "      <td>0</td>\n",
       "      <td>0</td>\n",
       "      <td>0</td>\n",
       "      <td>0</td>\n",
       "      <td>0</td>\n",
       "      <td>0</td>\n",
       "      <td>0</td>\n",
       "      <td>0</td>\n",
       "      <td>7</td>\n",
       "      <td>1</td>\n",
       "      <td>...</td>\n",
       "      <td>0</td>\n",
       "      <td>5</td>\n",
       "      <td>1</td>\n",
       "      <td>0</td>\n",
       "      <td>2</td>\n",
       "      <td>2</td>\n",
       "      <td>0</td>\n",
       "      <td>0</td>\n",
       "      <td>0</td>\n",
       "      <td>0</td>\n",
       "    </tr>\n",
       "    <tr>\n",
       "      <th>d_4</th>\n",
       "      <td>0</td>\n",
       "      <td>0</td>\n",
       "      <td>0</td>\n",
       "      <td>0</td>\n",
       "      <td>0</td>\n",
       "      <td>0</td>\n",
       "      <td>0</td>\n",
       "      <td>0</td>\n",
       "      <td>3</td>\n",
       "      <td>0</td>\n",
       "      <td>...</td>\n",
       "      <td>0</td>\n",
       "      <td>6</td>\n",
       "      <td>1</td>\n",
       "      <td>0</td>\n",
       "      <td>5</td>\n",
       "      <td>2</td>\n",
       "      <td>0</td>\n",
       "      <td>2</td>\n",
       "      <td>0</td>\n",
       "      <td>0</td>\n",
       "    </tr>\n",
       "    <tr>\n",
       "      <th>d_5</th>\n",
       "      <td>0</td>\n",
       "      <td>0</td>\n",
       "      <td>0</td>\n",
       "      <td>0</td>\n",
       "      <td>0</td>\n",
       "      <td>0</td>\n",
       "      <td>0</td>\n",
       "      <td>0</td>\n",
       "      <td>0</td>\n",
       "      <td>0</td>\n",
       "      <td>...</td>\n",
       "      <td>0</td>\n",
       "      <td>5</td>\n",
       "      <td>1</td>\n",
       "      <td>0</td>\n",
       "      <td>2</td>\n",
       "      <td>0</td>\n",
       "      <td>0</td>\n",
       "      <td>2</td>\n",
       "      <td>0</td>\n",
       "      <td>0</td>\n",
       "    </tr>\n",
       "  </tbody>\n",
       "</table>\n",
       "<p>5 rows × 30490 columns</p>\n",
       "</div>"
      ],
      "text/plain": [
       "     0      1      2      3      4      5      6      7      8      9      \\\n",
       "d_1      0      0      0      0      0      0      0     12      2      0   \n",
       "d_2      0      0      0      0      0      0      0     15      0      0   \n",
       "d_3      0      0      0      0      0      0      0      0      7      1   \n",
       "d_4      0      0      0      0      0      0      0      0      3      0   \n",
       "d_5      0      0      0      0      0      0      0      0      0      0   \n",
       "\n",
       "     ...  30480  30481  30482  30483  30484  30485  30486  30487  30488  30489  \n",
       "d_1  ...      0     14      1      0      4      0      0      0      0      0  \n",
       "d_2  ...      0     11      1      0      4      0      0      6      0      0  \n",
       "d_3  ...      0      5      1      0      2      2      0      0      0      0  \n",
       "d_4  ...      0      6      1      0      5      2      0      2      0      0  \n",
       "d_5  ...      0      5      1      0      2      0      0      2      0      0  \n",
       "\n",
       "[5 rows x 30490 columns]"
      ]
     },
     "execution_count": 6,
     "metadata": {},
     "output_type": "execute_result"
    }
   ],
   "source": [
    "# create training data, for now it only contains the sales and no extra features\n",
    "sales = train_sales.drop([\"id\", \"item_id\", \"dept_id\", \"cat_id\", \"store_id\", \"state_id\"], axis=1).T\n",
    "# normalize training data\n",
    "\n",
    "sales.head()"
   ]
  },
  {
   "cell_type": "code",
   "execution_count": null,
   "metadata": {},
   "outputs": [],
   "source": [
    "for i in range(4):\n",
    "    print(i)"
   ]
  },
  {
   "cell_type": "code",
   "execution_count": null,
   "metadata": {},
   "outputs": [],
   "source": []
  },
  {
   "cell_type": "code",
   "execution_count": 7,
   "metadata": {},
   "outputs": [],
   "source": [
    "\n",
    "class DataGenerator(Sequence):\n",
    "    \n",
    "    \n",
    "    def __init__(self,csv_file, timesteps, sliding_window,batch_size = 32, shuffle= False, to_fit = True):\n",
    "        self.data = csv_file\n",
    "        self.timesteps = timesteps\n",
    "        self.sliding_window = sliding_window\n",
    "        self.batch_size = batch_size\n",
    "        self.shuffle = shuffle\n",
    "        self.current_start_x = 0\n",
    "        self.current_start_y = 0\n",
    "        self.first_run = True\n",
    "        self.to_fit = to_fit\n",
    "        self.on_epoch_end()\n",
    "        \n",
    "    \n",
    "    def __len__(self):\n",
    "        \"\"\"\n",
    "            number of batches per epoch\n",
    "        \"\"\"\n",
    "#         print(self.data.shape[0])\n",
    "#         print(self.data.shape[0] - self.sliding_window + 1)\n",
    "        return (self.data.shape[0] - self.sliding_window + 1) // self.batch_size\n",
    "    \n",
    "    \n",
    "    def __getitem__(self, index):\n",
    "        \n",
    "        \"\"\"\n",
    "            generates a single batch of data\n",
    "        \"\"\"\n",
    "        ## the number of windows is equal to the the batch_size,\n",
    "#         print(\"The index %s \" % str(index) )\n",
    "#         if (self.current_start_x + self.timesteps > 1913):\n",
    "#             indexes = self.indexes[:1913 - self.current_start_x]\n",
    "#         else:\n",
    "        indexes = self.indexes[:self.batch_size] ## first 32 indexes are important the starts of the slidingwindows\n",
    "        \n",
    "        X = self._generate_X(indexes)\n",
    "        \n",
    "        if self.to_fit:\n",
    "            y = self._generate_Y(indexes)\n",
    "            return X,y\n",
    "        else:\n",
    "            return X\n",
    "        \n",
    "        \n",
    "    def on_epoch_end(self):\n",
    "        \n",
    "        \"\"\"\n",
    "            after every epoch we need to update the available indexes \n",
    "            e.g. current_start-100 should become current_start + batch_size - 100\n",
    "            where current_start is 0 initially\n",
    "        \"\"\" \n",
    "        self.indexes = np.arange( (self.data.shape[0]-self.sliding_window + 1) )\n",
    "        self.current_start_x = 0\n",
    "        self.current_start_y = 0\n",
    "\n",
    "    \n",
    "    \n",
    "    def _generate_X(self, indexes):\n",
    "        \"\"\"\n",
    "            generates batch data, thus the sliding windows for the current batch\n",
    "        \"\"\"\n",
    "        \n",
    "        X = []\n",
    "        for sliding_window in indexes:\n",
    "\n",
    "            X.append(self.data.iloc[self.current_start_x: self.current_start_x + self.timesteps].to_numpy())\n",
    "            self.current_start_x += 1 \n",
    "#             print(\"the sliding window : %s \" % str(sliding_window))\n",
    "        X = np.array(X)\n",
    "#         print(\"self current start x %s \" % str(self.current_start_x))\n",
    "        return X\n",
    "    \n",
    "    def _generate_Y(self,indexes):\n",
    "        \"\"\"\n",
    "            generate the labels corresponding to the sliding window\n",
    "            \n",
    "        \"\"\"\n",
    "        Y = []\n",
    "        \n",
    "        for sliding_window in indexes:\n",
    "\n",
    "            Y.append(self.data.iloc[ self.current_start_y+self.timesteps].to_numpy())\n",
    "            self.current_start_y +=1\n",
    "            \n",
    "        Y = np.array(Y)\n",
    "\n",
    "        return Y\n",
    "    \n",
    "        \n",
    "    \n",
    "\n",
    "\n"
   ]
  },
  {
   "cell_type": "code",
   "execution_count": null,
   "metadata": {},
   "outputs": [],
   "source": []
  },
  {
   "cell_type": "code",
   "execution_count": null,
   "metadata": {},
   "outputs": [],
   "source": []
  },
  {
   "cell_type": "code",
   "execution_count": 17,
   "metadata": {},
   "outputs": [],
   "source": [
    "# normalize\n",
    "scaler = MinMaxScaler()\n",
    "scaler.fit(sales)\n",
    "sales = scaler.transform(sales)\n",
    "sales = pd.DataFrame(sales)"
   ]
  },
  {
   "cell_type": "code",
   "execution_count": null,
   "metadata": {},
   "outputs": [],
   "source": []
  },
  {
   "cell_type": "code",
   "execution_count": 18,
   "metadata": {},
   "outputs": [],
   "source": [
    "sales_numpy = sales"
   ]
  },
  {
   "cell_type": "code",
   "execution_count": null,
   "metadata": {},
   "outputs": [],
   "source": []
  },
  {
   "cell_type": "code",
   "execution_count": 19,
   "metadata": {},
   "outputs": [],
   "source": [
    "train_generator = DataGenerator(sales_numpy,28, (28+1),batch_size = 32, shuffle=False )"
   ]
  },
  {
   "cell_type": "code",
   "execution_count": 20,
   "metadata": {},
   "outputs": [
    {
     "data": {
      "text/plain": [
       "58"
      ]
     },
     "execution_count": 20,
     "metadata": {},
     "output_type": "execute_result"
    }
   ],
   "source": [
    "train_generator.__len__()"
   ]
  },
  {
   "cell_type": "code",
   "execution_count": 21,
   "metadata": {},
   "outputs": [],
   "source": [
    "## sanity check\n",
    "\n",
    "# for index,(x,y) in enumerate(train_generator):\n",
    "#     print(x.shape)\n",
    "#     print(y.shape)\n",
    "#     print(index)\n"
   ]
  },
  {
   "cell_type": "code",
   "execution_count": 22,
   "metadata": {},
   "outputs": [],
   "source": [
    "# create model\n",
    "\n",
    "n_features = 30490\n",
    "timesteps = 28\n",
    "model = Sequential()\n",
    "model.add(Bidirectional(LSTM(20,  return_sequences=True),input_shape=(timesteps, n_features)))\n",
    "model.add(Bidirectional(LSTM(10)))\n",
    "model.add(Dense(30490))\n",
    "opt = keras.optimizers.Adam(learning_rate=0.01)\n",
    "model.compile(optimizer='adam', loss='mse')\n"
   ]
  },
  {
   "cell_type": "code",
   "execution_count": 23,
   "metadata": {
    "scrolled": false
   },
   "outputs": [
    {
     "name": "stdout",
     "output_type": "stream",
     "text": [
      "Epoch 1/10\n",
      "58/58 [==============================] - 44s 758ms/step - loss: 0.0157\n",
      "Epoch 2/10\n",
      "58/58 [==============================] - 42s 728ms/step - loss: 0.0157\n",
      "Epoch 3/10\n",
      "58/58 [==============================] - 42s 727ms/step - loss: 0.0157\n",
      "Epoch 4/10\n",
      "58/58 [==============================] - 42s 724ms/step - loss: 0.0154\n",
      "Epoch 5/10\n",
      "58/58 [==============================] - 42s 725ms/step - loss: 0.0154\n",
      "Epoch 6/10\n",
      "58/58 [==============================] - 42s 725ms/step - loss: 0.0152\n",
      "Epoch 7/10\n",
      "58/58 [==============================] - 42s 724ms/step - loss: 0.0150\n",
      "Epoch 8/10\n",
      "58/58 [==============================] - 43s 733ms/step - loss: 0.0150\n",
      "Epoch 9/10\n",
      "58/58 [==============================] - 42s 726ms/step - loss: 0.0147\n",
      "Epoch 10/10\n",
      "58/58 [==============================] - 42s 724ms/step - loss: 0.0144\n"
     ]
    },
    {
     "data": {
      "text/plain": [
       "<keras.callbacks.callbacks.History at 0x7f24cb3c1bd0>"
      ]
     },
     "execution_count": 23,
     "metadata": {},
     "output_type": "execute_result"
    }
   ],
   "source": [
    "model.fit_generator(train_generator, epochs=10 ,verbose=1)"
   ]
  },
  {
   "cell_type": "code",
   "execution_count": null,
   "metadata": {},
   "outputs": [],
   "source": []
  },
  {
   "cell_type": "code",
   "execution_count": null,
   "metadata": {},
   "outputs": [],
   "source": []
  },
  {
   "cell_type": "code",
   "execution_count": null,
   "metadata": {},
   "outputs": [],
   "source": []
  },
  {
   "cell_type": "code",
   "execution_count": null,
   "metadata": {},
   "outputs": [],
   "source": []
  },
  {
   "cell_type": "code",
   "execution_count": null,
   "metadata": {},
   "outputs": [],
   "source": []
  },
  {
   "cell_type": "code",
   "execution_count": null,
   "metadata": {},
   "outputs": [],
   "source": []
  },
  {
   "cell_type": "code",
   "execution_count": 24,
   "metadata": {},
   "outputs": [],
   "source": [
    "# test model\n",
    "\n",
    "for i in range(28):    \n",
    "    # get input for prediction by selecting last 28 days from sales\n",
    "    X_pred = []\n",
    "    X_pred.append(sales_numpy.iloc[-timesteps:].to_numpy())\n",
    "    X_pred = np.array(X_pred)\n",
    "    \n",
    "    # get prediction\n",
    "    prediction = model.predict(X_pred)\n",
    "    \n",
    "    # add prediction to sales so that it can be used for next prediction\n",
    "    sales_numpy.loc[sales_numpy.shape[0]] = prediction[0]\n",
    "    \n",
    "predictions = sales_numpy.iloc[-28:]\n",
    "predictions = scaler.inverse_transform(predictions)\n",
    "predictions = np.round(np.abs(predictions))\n",
    "predictions = pd.DataFrame(predictions).T"
   ]
  },
  {
   "cell_type": "code",
   "execution_count": null,
   "metadata": {},
   "outputs": [],
   "source": []
  },
  {
   "cell_type": "code",
   "execution_count": 26,
   "metadata": {},
   "outputs": [],
   "source": [
    "# create submission file\n",
    "\n",
    "predictions_copy = predictions\n",
    "final_submission = pd.concat([predictions, predictions_copy])\n",
    "final_submission.reset_index(drop=True, inplace=True)\n",
    "final_submission = final_submission.astype(int)\n",
    "final_submission.insert(0, 'id', submission_file['id'])\n",
    "final_submission.columns = ['id'] + [f\"F{i}\" for i in range(1, 29)]\n",
    "\n",
    "final_submission.to_csv('submission_year_datagen_allbatches.csv', index=False)"
   ]
  },
  {
   "cell_type": "code",
   "execution_count": null,
   "metadata": {},
   "outputs": [],
   "source": []
  }
 ],
 "metadata": {
  "kernelspec": {
   "display_name": "Python 3",
   "language": "python",
   "name": "python3"
  },
  "language_info": {
   "codemirror_mode": {
    "name": "ipython",
    "version": 3
   },
   "file_extension": ".py",
   "mimetype": "text/x-python",
   "name": "python",
   "nbconvert_exporter": "python",
   "pygments_lexer": "ipython3",
   "version": "3.7.6"
  }
 },
 "nbformat": 4,
 "nbformat_minor": 4
}
