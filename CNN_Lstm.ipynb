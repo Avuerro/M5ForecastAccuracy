{
 "cells": [
  {
   "cell_type": "code",
   "execution_count": 13,
   "metadata": {},
   "outputs": [
    {
     "name": "stdout",
     "output_type": "stream",
     "text": [
      "The autoreload extension is already loaded. To reload it, use:\n",
      "  %reload_ext autoreload\n"
     ]
    }
   ],
   "source": [
    "import numpy as np\n",
    "import pandas as pd\n",
    "from sklearn.preprocessing import StandardScaler, MinMaxScaler\n",
    "from sklearn.model_selection import train_test_split\n",
    "from keras.models import Sequential\n",
    "from keras.layers import LSTM, Dense, Bidirectional, Conv1D, MaxPooling1D, Flatten, TimeDistributed\n",
    "\n",
    "\n",
    "\n",
    "\n",
    "## reload scripts before executing them\n",
    "%load_ext autoreload\n",
    "%autoreload 2\n",
    "\n",
    "## importing python scripts from the directores\n",
    "\n",
    "from dataset.reduce_memory import reduce_mem_usage\n",
    "from dataset.create_windows import create_windows\n",
    "from dataset.create_submission import create_submission_csv\n",
    "\n",
    "from evaluation.rmsse_loss import root_mean_squared_scaled_error\n",
    "\n",
    "from train.cross_validate import cross_validate\n",
    "\n",
    "from models.lstm import lstm_model\n",
    "from models.cnn_lstm import cnn_lstm_model\n",
    "\n",
    "\n",
    "import wandb\n",
    "from wandb.keras import WandbCallback"
   ]
  },
  {
   "cell_type": "code",
   "execution_count": 3,
   "metadata": {},
   "outputs": [],
   "source": [
    "# read data\n",
    "\n",
    "data_dir = 'data/'\n",
    "\n",
    "train_sales = pd.read_csv(data_dir + 'sales_train_validation.csv')\n",
    "#sell_prices = pd.read_csv(data_dir + 'sell_prices.csv')\n",
    "calendar = pd.read_csv(data_dir + 'calendar.csv')\n",
    "submission_file = pd.read_csv(data_dir + 'sample_submission.csv')\n",
    "events_feature = pd.read_csv('eventencoding.csv')"
   ]
  },
  {
   "cell_type": "code",
   "execution_count": 4,
   "metadata": {},
   "outputs": [
    {
     "name": "stdout",
     "output_type": "stream",
     "text": [
      "Mem. usage decreased to 95.00 Mb (78.7% reduction)\n"
     ]
    }
   ],
   "source": [
    "train_sales = reduce_mem_usage(train_sales) # takes about 4mins"
   ]
  },
  {
   "cell_type": "code",
   "execution_count": null,
   "metadata": {},
   "outputs": [],
   "source": []
  },
  {
   "cell_type": "code",
   "execution_count": 5,
   "metadata": {},
   "outputs": [],
   "source": [
    "# create training data\n",
    "sales = train_sales.drop([\"id\", \"item_id\", \"dept_id\", \"cat_id\", \"store_id\", \"state_id\"], axis=1).T\n",
    "\n",
    "# normalize\n",
    "scaler = MinMaxScaler()\n",
    "scaler.fit(sales)\n",
    "sales = scaler.transform(sales)\n",
    "sales = pd.DataFrame(sales)"
   ]
  },
  {
   "cell_type": "code",
   "execution_count": 6,
   "metadata": {},
   "outputs": [],
   "source": [
    "# add extra features\n",
    "\n",
    "# event feature\n",
    "sales = pd.concat([sales, events_feature[:1913]], axis=1)"
   ]
  },
  {
   "cell_type": "code",
   "execution_count": null,
   "metadata": {},
   "outputs": [],
   "source": []
  },
  {
   "cell_type": "code",
   "execution_count": 7,
   "metadata": {},
   "outputs": [],
   "source": [
    "timesteps = 28\n",
    "prediction_steps = 1\n",
    "len_window = timesteps + prediction_steps\n",
    "\n",
    "nr_training_days = sales.shape[0]\n",
    "nr_sets = nr_training_days - len_window + 1"
   ]
  },
  {
   "cell_type": "code",
   "execution_count": null,
   "metadata": {},
   "outputs": [],
   "source": []
  },
  {
   "cell_type": "code",
   "execution_count": 8,
   "metadata": {},
   "outputs": [],
   "source": [
    "X, y = create_windows(sales, timesteps, prediction_steps, event_features=True)"
   ]
  },
  {
   "cell_type": "code",
   "execution_count": null,
   "metadata": {},
   "outputs": [],
   "source": []
  },
  {
   "cell_type": "code",
   "execution_count": 10,
   "metadata": {},
   "outputs": [],
   "source": [
    "# cnn-lstm model\n",
    "\n",
    "n_features = X.shape[2]\n",
    "n_outputs = y.shape[1]"
   ]
  },
  {
   "cell_type": "code",
   "execution_count": 14,
   "metadata": {},
   "outputs": [],
   "source": [
    "lstm_model = cnn_lstm_model(timesteps,n_features, n_outputs,optimizer='adam', loss='mse')"
   ]
  },
  {
   "cell_type": "code",
   "execution_count": 15,
   "metadata": {},
   "outputs": [
    {
     "name": "stdout",
     "output_type": "stream",
     "text": [
      "Epoch 1/10\n",
      "1885/1885 [==============================] - 50s 26ms/step - loss: 0.0158\n",
      "Epoch 2/10\n",
      "1885/1885 [==============================] - 39s 21ms/step - loss: 0.0135\n",
      "Epoch 3/10\n",
      "1885/1885 [==============================] - 35s 19ms/step - loss: 0.0131\n",
      "Epoch 4/10\n",
      "1885/1885 [==============================] - 35s 19ms/step - loss: 0.0128\n",
      "Epoch 5/10\n",
      "1885/1885 [==============================] - 36s 19ms/step - loss: 0.0126\n",
      "Epoch 6/10\n",
      "1885/1885 [==============================] - 36s 19ms/step - loss: 0.0125\n",
      "Epoch 7/10\n",
      "1885/1885 [==============================] - 35s 19ms/step - loss: 0.0124\n",
      "Epoch 8/10\n",
      "1885/1885 [==============================] - 34s 18ms/step - loss: 0.0123\n",
      "Epoch 9/10\n",
      "1885/1885 [==============================] - 36s 19ms/step - loss: 0.0122\n",
      "Epoch 10/10\n",
      "1885/1885 [==============================] - 37s 19ms/step - loss: 0.0122\n"
     ]
    },
    {
     "data": {
      "text/plain": [
       "<keras.callbacks.callbacks.History at 0x106d19d50>"
      ]
     },
     "execution_count": 15,
     "metadata": {},
     "output_type": "execute_result"
    }
   ],
   "source": [
    "# train & validate model (1 epoch takes about 1.5mins)\n",
    "\n",
    "model.fit(X, y, batch_size=32, epochs=10, verbose=1)"
   ]
  },
  {
   "cell_type": "code",
   "execution_count": null,
   "metadata": {},
   "outputs": [],
   "source": [
    "# test model\n",
    "\n",
    "for i in range(28):    \n",
    "    # get input for prediction by selecting last 28 days from sales\n",
    "    X_pred = []\n",
    "    X_pred.append(sales.iloc[-timesteps:].to_numpy())\n",
    "    X_pred = np.array(X_pred)\n",
    "    \n",
    "    # get prediction\n",
    "    prediction = model.predict(X_pred)\n",
    "    \n",
    "    # get event feature for predicted day\n",
    "    events = events_feature.iloc[1913 + i].to_numpy()\n",
    "    \n",
    "    # add prediction+events to sales so that it can be used for next prediction\n",
    "    sales.loc[sales.shape[0]] = np.append(prediction[0], events)\n",
    "    \n",
    "predictions = sales.iloc[-28:,:30490]\n",
    "predictions = scaler.inverse_transform(predictions)\n",
    "predictions = np.round(np.abs(predictions))\n",
    "predictions = pd.DataFrame(predictions).T"
   ]
  },
  {
   "cell_type": "code",
   "execution_count": null,
   "metadata": {},
   "outputs": [],
   "source": [
    "# create submission file\n",
    "\n",
    "predictions_copy = predictions\n",
    "final_submission = pd.concat([predictions, predictions_copy])\n",
    "final_submission.reset_index(drop=True, inplace=True)\n",
    "final_submission = final_submission.astype(int)\n",
    "final_submission.insert(0, 'id', submission_file['id'])\n",
    "final_submission.columns = ['id'] + [f\"F{i}\" for i in range(1, 29)]\n",
    "\n",
    "final_submission.to_csv('submission_cnn.csv', index=False)"
   ]
  },
  {
   "cell_type": "code",
   "execution_count": null,
   "metadata": {},
   "outputs": [],
   "source": []
  }
 ],
 "metadata": {
  "kernelspec": {
   "display_name": "Python 3",
   "language": "python",
   "name": "python3"
  },
  "language_info": {
   "codemirror_mode": {
    "name": "ipython",
    "version": 3
   },
   "file_extension": ".py",
   "mimetype": "text/x-python",
   "name": "python",
   "nbconvert_exporter": "python",
   "pygments_lexer": "ipython3",
   "version": "3.7.6"
  }
 },
 "nbformat": 4,
 "nbformat_minor": 4
}
