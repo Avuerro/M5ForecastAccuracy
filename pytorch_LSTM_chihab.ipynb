{
 "cells": [
  {
   "cell_type": "code",
   "execution_count": 27,
   "metadata": {},
   "outputs": [],
   "source": [
    "import torch\n",
    "import torch.nn as nn\n",
    "from torch.utils.data import Dataset, SequentialSampler,DataLoader\n",
    "import numpy as np\n",
    "import pandas as pd\n",
    "from tqdm.notebook import tqdm\n",
    "\n",
    "from sklearn.preprocessing import MinMaxScaler,StandardScaler\n"
   ]
  },
  {
   "cell_type": "code",
   "execution_count": null,
   "metadata": {},
   "outputs": [],
   "source": []
  },
  {
   "cell_type": "code",
   "execution_count": null,
   "metadata": {},
   "outputs": [],
   "source": []
  },
  {
   "cell_type": "code",
   "execution_count": 28,
   "metadata": {},
   "outputs": [],
   "source": [
    "# read data (for now, sell_prices & calendar are not used)\n",
    "\n",
    "data_dir = '../code/data/'\n",
    "\n",
    "train_sales = pd.read_csv(data_dir + 'sales_train_validation.csv')\n",
    "#sell_prices = pd.read_csv(data_dir + 'sell_prices.csv')\n",
    "#calendar = pd.read_csv(data_dir + 'calendar.csv')\n",
    "submission_file = pd.read_csv(data_dir + 'sample_submission.csv')\n",
    "eval_file = pd.read_csv(data_dir + 'sales_train_evaluation.csv')"
   ]
  },
  {
   "cell_type": "code",
   "execution_count": 29,
   "metadata": {},
   "outputs": [
    {
     "data": {
      "text/html": [
       "<div>\n",
       "<style scoped>\n",
       "    .dataframe tbody tr th:only-of-type {\n",
       "        vertical-align: middle;\n",
       "    }\n",
       "\n",
       "    .dataframe tbody tr th {\n",
       "        vertical-align: top;\n",
       "    }\n",
       "\n",
       "    .dataframe thead th {\n",
       "        text-align: right;\n",
       "    }\n",
       "</style>\n",
       "<table border=\"1\" class=\"dataframe\">\n",
       "  <thead>\n",
       "    <tr style=\"text-align: right;\">\n",
       "      <th></th>\n",
       "      <th>d_1</th>\n",
       "      <th>d_2</th>\n",
       "      <th>d_3</th>\n",
       "      <th>d_4</th>\n",
       "      <th>d_5</th>\n",
       "      <th>d_6</th>\n",
       "      <th>d_7</th>\n",
       "      <th>d_8</th>\n",
       "      <th>d_9</th>\n",
       "      <th>d_10</th>\n",
       "      <th>...</th>\n",
       "      <th>d_1904</th>\n",
       "      <th>d_1905</th>\n",
       "      <th>d_1906</th>\n",
       "      <th>d_1907</th>\n",
       "      <th>d_1908</th>\n",
       "      <th>d_1909</th>\n",
       "      <th>d_1910</th>\n",
       "      <th>d_1911</th>\n",
       "      <th>d_1912</th>\n",
       "      <th>d_1913</th>\n",
       "    </tr>\n",
       "  </thead>\n",
       "  <tbody>\n",
       "    <tr>\n",
       "      <th>0</th>\n",
       "      <td>0</td>\n",
       "      <td>0</td>\n",
       "      <td>0</td>\n",
       "      <td>0</td>\n",
       "      <td>0</td>\n",
       "      <td>0</td>\n",
       "      <td>0</td>\n",
       "      <td>0</td>\n",
       "      <td>0</td>\n",
       "      <td>0</td>\n",
       "      <td>...</td>\n",
       "      <td>1</td>\n",
       "      <td>3</td>\n",
       "      <td>0</td>\n",
       "      <td>1</td>\n",
       "      <td>1</td>\n",
       "      <td>1</td>\n",
       "      <td>3</td>\n",
       "      <td>0</td>\n",
       "      <td>1</td>\n",
       "      <td>1</td>\n",
       "    </tr>\n",
       "    <tr>\n",
       "      <th>1</th>\n",
       "      <td>0</td>\n",
       "      <td>0</td>\n",
       "      <td>0</td>\n",
       "      <td>0</td>\n",
       "      <td>0</td>\n",
       "      <td>0</td>\n",
       "      <td>0</td>\n",
       "      <td>0</td>\n",
       "      <td>0</td>\n",
       "      <td>0</td>\n",
       "      <td>...</td>\n",
       "      <td>0</td>\n",
       "      <td>0</td>\n",
       "      <td>0</td>\n",
       "      <td>0</td>\n",
       "      <td>0</td>\n",
       "      <td>1</td>\n",
       "      <td>0</td>\n",
       "      <td>0</td>\n",
       "      <td>0</td>\n",
       "      <td>0</td>\n",
       "    </tr>\n",
       "    <tr>\n",
       "      <th>2</th>\n",
       "      <td>0</td>\n",
       "      <td>0</td>\n",
       "      <td>0</td>\n",
       "      <td>0</td>\n",
       "      <td>0</td>\n",
       "      <td>0</td>\n",
       "      <td>0</td>\n",
       "      <td>0</td>\n",
       "      <td>0</td>\n",
       "      <td>0</td>\n",
       "      <td>...</td>\n",
       "      <td>2</td>\n",
       "      <td>1</td>\n",
       "      <td>2</td>\n",
       "      <td>1</td>\n",
       "      <td>1</td>\n",
       "      <td>1</td>\n",
       "      <td>0</td>\n",
       "      <td>1</td>\n",
       "      <td>1</td>\n",
       "      <td>1</td>\n",
       "    </tr>\n",
       "    <tr>\n",
       "      <th>3</th>\n",
       "      <td>0</td>\n",
       "      <td>0</td>\n",
       "      <td>0</td>\n",
       "      <td>0</td>\n",
       "      <td>0</td>\n",
       "      <td>0</td>\n",
       "      <td>0</td>\n",
       "      <td>0</td>\n",
       "      <td>0</td>\n",
       "      <td>0</td>\n",
       "      <td>...</td>\n",
       "      <td>1</td>\n",
       "      <td>0</td>\n",
       "      <td>5</td>\n",
       "      <td>4</td>\n",
       "      <td>1</td>\n",
       "      <td>0</td>\n",
       "      <td>1</td>\n",
       "      <td>3</td>\n",
       "      <td>7</td>\n",
       "      <td>2</td>\n",
       "    </tr>\n",
       "    <tr>\n",
       "      <th>4</th>\n",
       "      <td>0</td>\n",
       "      <td>0</td>\n",
       "      <td>0</td>\n",
       "      <td>0</td>\n",
       "      <td>0</td>\n",
       "      <td>0</td>\n",
       "      <td>0</td>\n",
       "      <td>0</td>\n",
       "      <td>0</td>\n",
       "      <td>0</td>\n",
       "      <td>...</td>\n",
       "      <td>2</td>\n",
       "      <td>1</td>\n",
       "      <td>1</td>\n",
       "      <td>0</td>\n",
       "      <td>1</td>\n",
       "      <td>1</td>\n",
       "      <td>2</td>\n",
       "      <td>2</td>\n",
       "      <td>2</td>\n",
       "      <td>4</td>\n",
       "    </tr>\n",
       "  </tbody>\n",
       "</table>\n",
       "<p>5 rows × 1913 columns</p>\n",
       "</div>"
      ],
      "text/plain": [
       "   d_1  d_2  d_3  d_4  d_5  d_6  d_7  d_8  d_9  d_10  ...  d_1904  d_1905  \\\n",
       "0    0    0    0    0    0    0    0    0    0     0  ...       1       3   \n",
       "1    0    0    0    0    0    0    0    0    0     0  ...       0       0   \n",
       "2    0    0    0    0    0    0    0    0    0     0  ...       2       1   \n",
       "3    0    0    0    0    0    0    0    0    0     0  ...       1       0   \n",
       "4    0    0    0    0    0    0    0    0    0     0  ...       2       1   \n",
       "\n",
       "   d_1906  d_1907  d_1908  d_1909  d_1910  d_1911  d_1912  d_1913  \n",
       "0       0       1       1       1       3       0       1       1  \n",
       "1       0       0       0       1       0       0       0       0  \n",
       "2       2       1       1       1       0       1       1       1  \n",
       "3       5       4       1       0       1       3       7       2  \n",
       "4       1       0       1       1       2       2       2       4  \n",
       "\n",
       "[5 rows x 1913 columns]"
      ]
     },
     "execution_count": 29,
     "metadata": {},
     "output_type": "execute_result"
    }
   ],
   "source": [
    "# create training data, for now it only contains the sales and no extra features\n",
    "sales = train_sales.drop([\"id\", \"item_id\", \"dept_id\", \"cat_id\", \"store_id\", \"state_id\"], axis=1)\n",
    "# normalize training data\n",
    "\n",
    "sales.head()"
   ]
  },
  {
   "cell_type": "code",
   "execution_count": 31,
   "metadata": {},
   "outputs": [],
   "source": [
    "start_day = 0\n",
    "\n",
    "timesteps = 50\n",
    "prediction_steps = 28\n",
    "len_window = timesteps + prediction_steps\n",
    "\n"
   ]
  },
  {
   "cell_type": "code",
   "execution_count": null,
   "metadata": {},
   "outputs": [],
   "source": []
  },
  {
   "cell_type": "code",
   "execution_count": null,
   "metadata": {},
   "outputs": [],
   "source": [
    "class BigDataSet(Dataset):\n",
    "    \n",
    "    def __init__(self,data,labels):\n",
    "        self.data = data\n",
    "        self.labels = labels\n",
    "        \n",
    "    def __getitem__(self,index):\n",
    "        \n",
    "        x = self.data[index]\n",
    "        y = self.labels[index]\n",
    "        x_tensor = torch.tensor(x).type(dtype=torch.float)\n",
    "        y_tensor = torch.tensor(y).type(dtype=torch.float)\n",
    "        return x_tensor.reshape(1,14),y_tensor\n",
    "    \n",
    "    def __len__(self):\n",
    "        return len(self.data)"
   ]
  },
  {
   "cell_type": "code",
   "execution_count": 32,
   "metadata": {},
   "outputs": [],
   "source": [
    "class SlidingWindowDataset(Dataset):\n",
    "    \"\"\"Sliding window dataset\"\"\"\n",
    "    \n",
    "    def __init__(self,csv_data,labels,timesteps,sliding_window):\n",
    "        self.data = csv_data\n",
    "        self.labels = labels\n",
    "        self.timesteps = timesteps\n",
    "        self.sliding_window = sliding_window\n",
    "\n",
    "    def __getitem__(self,index):\n",
    "        x = self.data[:, index: index + self.timesteps]\n",
    "        y = self.labels[:, index + self.timesteps : index+self.timesteps+1]\n",
    "        x = torch.tensor(x).type(dtype=torch.float)\n",
    "        y = torch.tensor(y).type(dtype=torch.float)\n",
    "        return x,y\n",
    "    \n",
    "    def __len__(self):\n",
    "        return self.data.shape[1] - self.sliding_window + 1\n",
    "        \n",
    "        "
   ]
  },
  {
   "cell_type": "code",
   "execution_count": null,
   "metadata": {},
   "outputs": [],
   "source": [
    "## lets try to implement our own StandarScaler\n",
    "\n",
    "sales_numpy = torch.tensor(sales.to_numpy()).type(dtype=torch.float)\n",
    "sales_mean = sales_numpy.mean(1, keepdim=True)\n",
    "sales_std = sales_numpy.std(1, unbiased=False, keepdim=True)\n",
    "\n",
    "sales_numpy -= sales_mean\n",
    "sales_numpy /= sales_std\n"
   ]
  },
  {
   "cell_type": "code",
   "execution_count": null,
   "metadata": {},
   "outputs": [],
   "source": [
    "sales_numpy"
   ]
  },
  {
   "cell_type": "code",
   "execution_count": null,
   "metadata": {},
   "outputs": [],
   "source": [
    "## lets try to implement our own Min Max Scaler where min = 0 and max = 1 \n",
    "\n",
    "sales_numpy = torch.tensor(sales.to_numpy()).type(dtype=torch.float)\n",
    "max_value = sales_numpy.max()\n",
    "print(max_value)\n",
    "\n",
    "sales_numpy /= max_value\n"
   ]
  },
  {
   "cell_type": "code",
   "execution_count": 33,
   "metadata": {},
   "outputs": [],
   "source": [
    "scaler = StandardScaler()\n",
    "\n",
    "scaler.fit(sales.T)\n",
    "\n",
    "scaled_data = scaler.transform(sales.T)"
   ]
  },
  {
   "cell_type": "code",
   "execution_count": 34,
   "metadata": {},
   "outputs": [
    {
     "data": {
      "text/plain": [
       "(1913, 30490)"
      ]
     },
     "execution_count": 34,
     "metadata": {},
     "output_type": "execute_result"
    }
   ],
   "source": [
    "scaled_data.shape"
   ]
  },
  {
   "cell_type": "code",
   "execution_count": 35,
   "metadata": {},
   "outputs": [],
   "source": [
    "sales_numpy = scaled_data.T"
   ]
  },
  {
   "cell_type": "code",
   "execution_count": 36,
   "metadata": {},
   "outputs": [],
   "source": [
    "dataset = SlidingWindowDataset(sales_numpy[:,start_day:],sales_numpy[:,start_day:],50,(timesteps+prediction_steps))"
   ]
  },
  {
   "cell_type": "code",
   "execution_count": null,
   "metadata": {},
   "outputs": [],
   "source": [
    "# dataset = BigDataSet(base,predictions)"
   ]
  },
  {
   "cell_type": "code",
   "execution_count": null,
   "metadata": {},
   "outputs": [],
   "source": [
    "dataset_sampler = SequentialSampler(dataset)"
   ]
  },
  {
   "cell_type": "code",
   "execution_count": 37,
   "metadata": {},
   "outputs": [],
   "source": [
    "dataset_sampler_loader = DataLoader(dataset,batch_size=32,shuffle=False)"
   ]
  },
  {
   "cell_type": "code",
   "execution_count": 11,
   "metadata": {},
   "outputs": [
    {
     "name": "stdout",
     "output_type": "stream",
     "text": [
      "torch.Size([32, 30490, 50])\n",
      "torch.Size([32, 30490, 1])\n",
      "torch.Size([32, 30490, 50])\n",
      "torch.Size([32, 30490, 1])\n",
      "torch.Size([32, 30490, 50])\n",
      "torch.Size([32, 30490, 1])\n",
      "torch.Size([32, 30490, 50])\n",
      "torch.Size([32, 30490, 1])\n",
      "torch.Size([32, 30490, 50])\n",
      "torch.Size([32, 30490, 1])\n",
      "torch.Size([32, 30490, 50])\n",
      "torch.Size([32, 30490, 1])\n",
      "torch.Size([32, 30490, 50])\n",
      "torch.Size([32, 30490, 1])\n",
      "torch.Size([32, 30490, 50])\n",
      "torch.Size([32, 30490, 1])\n",
      "torch.Size([32, 30490, 50])\n",
      "torch.Size([32, 30490, 1])\n",
      "torch.Size([32, 30490, 50])\n",
      "torch.Size([32, 30490, 1])\n",
      "torch.Size([32, 30490, 50])\n",
      "torch.Size([32, 30490, 1])\n",
      "torch.Size([32, 30490, 50])\n",
      "torch.Size([32, 30490, 1])\n",
      "torch.Size([32, 30490, 50])\n",
      "torch.Size([32, 30490, 1])\n",
      "torch.Size([7, 30490, 50])\n",
      "torch.Size([7, 30490, 1])\n"
     ]
    }
   ],
   "source": [
    "for x,y in dataset_sampler_loader:\n",
    "    print(x.shape)\n",
    "    print(y.shape)\n",
    "    "
   ]
  },
  {
   "cell_type": "code",
   "execution_count": null,
   "metadata": {},
   "outputs": [],
   "source": []
  },
  {
   "cell_type": "code",
   "execution_count": null,
   "metadata": {},
   "outputs": [],
   "source": []
  },
  {
   "cell_type": "code",
   "execution_count": null,
   "metadata": {},
   "outputs": [],
   "source": [
    "## I think it would be easier to select a certain set of features, \n",
    "## train it with a CNN and extract feacture vectors for the LSTM\n",
    "class EventCNN(nn.Module):\n",
    "    def __init__(self, n_features):\n",
    "        super(EventCNN, self).__init__()\n",
    "        self.flatten = nn.Flatten()\n",
    "        self.linear_1 = nn.Linear(input_shape, 256)\n",
    "        self.feature_linear = nn.Linear(256, n_features)\n",
    "        self.classification_linear = nn.Linear(n_features, nr_of_events)\n",
    "        \n",
    "    def forward(self, x):\n",
    "        h = self.linear_1(self.flatten(x))\n",
    "        h = self.feature_linear(h)\n",
    "        h = self.classification_linear(h)\n",
    "        return torch.squeeze(h)"
   ]
  },
  {
   "cell_type": "code",
   "execution_count": null,
   "metadata": {},
   "outputs": [],
   "source": [
    "class CombinationNet(nn.Module):\n",
    "    \n",
    "    def __init__(self,cnn,lstm):\n",
    "        super(CombinationNet, self).__init__()\n",
    "        self.feature_vectors = torch.nn.Sequential(*(list(cnn_net.children())[:-1]))\n",
    "        self.lstm = lstm\n",
    "    \n",
    "    def forward(self,x):\n",
    "        x = self.feature_vectors(x)\n",
    "        x = self.lstm(x)\n",
    "        "
   ]
  },
  {
   "cell_type": "code",
   "execution_count": null,
   "metadata": {},
   "outputs": [],
   "source": [
    "class Net(nn.Module):\n",
    "    \n",
    "    def __init__(self):\n",
    "        super(Net, self).__init__()\n",
    "        self.conv = nn.Conv2d(in_channels, 64, (2,1),1 ) ## input depends on sliding window...\n",
    "        self.relu = nn.Relu()\n",
    "        self.pool = nn.MaxPool2d((2,1),2)\n",
    "        self.timedistributed = ... ### not sure about this one, this is a keras specific layer, but we could just use a linear layer\n",
    "        self.lstm = nn.LSTM(64,hidden_size, num_layers=1)\n",
    "        self.tanh = nn.Tanh\n",
    "        self.lin1 = nn.Linear(in_features,32)\n",
    "        self.lin2 = nn.Linear(in_features,output_size) # \n",
    "    \n",
    "    def forward(self,x):\n",
    "        x = self.conv(x)\n",
    "        x = self.relu(x)\n",
    "        x = self.pool1(x)\n",
    "        x = self.conv(x)\n",
    "        x = self.relu(x)\n",
    "        x = self.pool(x)\n",
    "        ## TimeDistributed\n",
    "        x = self.lstm(x)\n",
    "        x = self.tanh(x)\n",
    "        x = self.lin1(x)\n",
    "        x = self.lin2(x)\n",
    "        return x"
   ]
  },
  {
   "cell_type": "code",
   "execution_count": null,
   "metadata": {},
   "outputs": [],
   "source": []
  },
  {
   "cell_type": "code",
   "execution_count": 38,
   "metadata": {},
   "outputs": [],
   "source": [
    "class LSTM(nn.Module):\n",
    "    def __init__(self,prediction_steps):\n",
    "        super(LSTM, self).__init__()\n",
    "        self.lstm1 = nn.LSTM(input_size=50,hidden_size=10,num_layers=2,bidirectional=False)\n",
    "        self.lin = nn.Linear(10,1)\n",
    "        \n",
    "    def forward(self,x):\n",
    "        out,state = self.lstm1(x)\n",
    "        x = self.lin(out)\n",
    "        return x\n",
    "    "
   ]
  },
  {
   "cell_type": "code",
   "execution_count": 39,
   "metadata": {},
   "outputs": [],
   "source": [
    "lstm = LSTM(28)"
   ]
  },
  {
   "cell_type": "code",
   "execution_count": 40,
   "metadata": {},
   "outputs": [],
   "source": [
    "criterion = torch.nn.MSELoss()\n",
    "optimizer = torch.optim.Adam(lstm.parameters(), lr=0.001,weight_decay=1e-5)\n"
   ]
  },
  {
   "cell_type": "code",
   "execution_count": 41,
   "metadata": {},
   "outputs": [
    {
     "data": {
      "application/vnd.jupyter.widget-view+json": {
       "model_id": "",
       "version_major": 2,
       "version_minor": 0
      },
      "text/plain": [
       "HBox(children=(FloatProgress(value=0.0, description='#train batches', max=58.0, style=ProgressStyle(descriptio…"
      ]
     },
     "metadata": {},
     "output_type": "display_data"
    },
    {
     "name": "stdout",
     "output_type": "stream",
     "text": [
      "\r",
      "Epoch: 0, loss: 1.43303  \n"
     ]
    },
    {
     "data": {
      "application/vnd.jupyter.widget-view+json": {
       "model_id": "",
       "version_major": 2,
       "version_minor": 0
      },
      "text/plain": [
       "HBox(children=(FloatProgress(value=0.0, description='#train batches', max=58.0, style=ProgressStyle(descriptio…"
      ]
     },
     "metadata": {},
     "output_type": "display_data"
    },
    {
     "name": "stdout",
     "output_type": "stream",
     "text": [
      "\r",
      "Epoch: 1, loss: 1.39785  \n"
     ]
    },
    {
     "data": {
      "application/vnd.jupyter.widget-view+json": {
       "model_id": "",
       "version_major": 2,
       "version_minor": 0
      },
      "text/plain": [
       "HBox(children=(FloatProgress(value=0.0, description='#train batches', max=58.0, style=ProgressStyle(descriptio…"
      ]
     },
     "metadata": {},
     "output_type": "display_data"
    },
    {
     "name": "stdout",
     "output_type": "stream",
     "text": [
      "\r",
      "Epoch: 2, loss: 1.37480  \n"
     ]
    },
    {
     "data": {
      "application/vnd.jupyter.widget-view+json": {
       "model_id": "",
       "version_major": 2,
       "version_minor": 0
      },
      "text/plain": [
       "HBox(children=(FloatProgress(value=0.0, description='#train batches', max=58.0, style=ProgressStyle(descriptio…"
      ]
     },
     "metadata": {},
     "output_type": "display_data"
    },
    {
     "name": "stdout",
     "output_type": "stream",
     "text": [
      "\r",
      "Epoch: 3, loss: 1.36138  \n"
     ]
    },
    {
     "data": {
      "application/vnd.jupyter.widget-view+json": {
       "model_id": "",
       "version_major": 2,
       "version_minor": 0
      },
      "text/plain": [
       "HBox(children=(FloatProgress(value=0.0, description='#train batches', max=58.0, style=ProgressStyle(descriptio…"
      ]
     },
     "metadata": {},
     "output_type": "display_data"
    },
    {
     "name": "stdout",
     "output_type": "stream",
     "text": [
      "\r",
      "Epoch: 4, loss: 1.35271  \n"
     ]
    },
    {
     "data": {
      "application/vnd.jupyter.widget-view+json": {
       "model_id": "",
       "version_major": 2,
       "version_minor": 0
      },
      "text/plain": [
       "HBox(children=(FloatProgress(value=0.0, description='#train batches', max=58.0, style=ProgressStyle(descriptio…"
      ]
     },
     "metadata": {},
     "output_type": "display_data"
    },
    {
     "name": "stdout",
     "output_type": "stream",
     "text": [
      "\r",
      "Epoch: 5, loss: 1.34668  \n"
     ]
    },
    {
     "data": {
      "application/vnd.jupyter.widget-view+json": {
       "model_id": "",
       "version_major": 2,
       "version_minor": 0
      },
      "text/plain": [
       "HBox(children=(FloatProgress(value=0.0, description='#train batches', max=58.0, style=ProgressStyle(descriptio…"
      ]
     },
     "metadata": {},
     "output_type": "display_data"
    },
    {
     "name": "stdout",
     "output_type": "stream",
     "text": [
      "\r",
      "Epoch: 6, loss: 1.34233  \n"
     ]
    },
    {
     "data": {
      "application/vnd.jupyter.widget-view+json": {
       "model_id": "",
       "version_major": 2,
       "version_minor": 0
      },
      "text/plain": [
       "HBox(children=(FloatProgress(value=0.0, description='#train batches', max=58.0, style=ProgressStyle(descriptio…"
      ]
     },
     "metadata": {},
     "output_type": "display_data"
    },
    {
     "name": "stdout",
     "output_type": "stream",
     "text": [
      "\r",
      "Epoch: 7, loss: 1.33892  \n"
     ]
    },
    {
     "data": {
      "application/vnd.jupyter.widget-view+json": {
       "model_id": "",
       "version_major": 2,
       "version_minor": 0
      },
      "text/plain": [
       "HBox(children=(FloatProgress(value=0.0, description='#train batches', max=58.0, style=ProgressStyle(descriptio…"
      ]
     },
     "metadata": {},
     "output_type": "display_data"
    },
    {
     "name": "stdout",
     "output_type": "stream",
     "text": [
      "\r",
      "Epoch: 8, loss: 1.33605  \n"
     ]
    },
    {
     "data": {
      "application/vnd.jupyter.widget-view+json": {
       "model_id": "",
       "version_major": 2,
       "version_minor": 0
      },
      "text/plain": [
       "HBox(children=(FloatProgress(value=0.0, description='#train batches', max=58.0, style=ProgressStyle(descriptio…"
      ]
     },
     "metadata": {},
     "output_type": "display_data"
    },
    {
     "name": "stdout",
     "output_type": "stream",
     "text": [
      "\r",
      "Epoch: 9, loss: 1.33355  \n"
     ]
    },
    {
     "data": {
      "application/vnd.jupyter.widget-view+json": {
       "model_id": "",
       "version_major": 2,
       "version_minor": 0
      },
      "text/plain": [
       "HBox(children=(FloatProgress(value=0.0, description='#train batches', max=58.0, style=ProgressStyle(descriptio…"
      ]
     },
     "metadata": {},
     "output_type": "display_data"
    },
    {
     "name": "stdout",
     "output_type": "stream",
     "text": [
      "\r",
      "Epoch: 10, loss: 1.33137  \n"
     ]
    },
    {
     "data": {
      "application/vnd.jupyter.widget-view+json": {
       "model_id": "",
       "version_major": 2,
       "version_minor": 0
      },
      "text/plain": [
       "HBox(children=(FloatProgress(value=0.0, description='#train batches', max=58.0, style=ProgressStyle(descriptio…"
      ]
     },
     "metadata": {},
     "output_type": "display_data"
    },
    {
     "name": "stdout",
     "output_type": "stream",
     "text": [
      "\r",
      "Epoch: 11, loss: 1.32950  \n"
     ]
    },
    {
     "data": {
      "application/vnd.jupyter.widget-view+json": {
       "model_id": "",
       "version_major": 2,
       "version_minor": 0
      },
      "text/plain": [
       "HBox(children=(FloatProgress(value=0.0, description='#train batches', max=58.0, style=ProgressStyle(descriptio…"
      ]
     },
     "metadata": {},
     "output_type": "display_data"
    },
    {
     "name": "stdout",
     "output_type": "stream",
     "text": [
      "\r",
      "Epoch: 12, loss: 1.32788  \n"
     ]
    },
    {
     "data": {
      "application/vnd.jupyter.widget-view+json": {
       "model_id": "",
       "version_major": 2,
       "version_minor": 0
      },
      "text/plain": [
       "HBox(children=(FloatProgress(value=0.0, description='#train batches', max=58.0, style=ProgressStyle(descriptio…"
      ]
     },
     "metadata": {},
     "output_type": "display_data"
    },
    {
     "name": "stdout",
     "output_type": "stream",
     "text": [
      "\r",
      "Epoch: 13, loss: 1.32647  \n"
     ]
    },
    {
     "data": {
      "application/vnd.jupyter.widget-view+json": {
       "model_id": "",
       "version_major": 2,
       "version_minor": 0
      },
      "text/plain": [
       "HBox(children=(FloatProgress(value=0.0, description='#train batches', max=58.0, style=ProgressStyle(descriptio…"
      ]
     },
     "metadata": {},
     "output_type": "display_data"
    },
    {
     "name": "stdout",
     "output_type": "stream",
     "text": [
      "\r",
      "Epoch: 14, loss: 1.32523  \n"
     ]
    },
    {
     "data": {
      "application/vnd.jupyter.widget-view+json": {
       "model_id": "",
       "version_major": 2,
       "version_minor": 0
      },
      "text/plain": [
       "HBox(children=(FloatProgress(value=0.0, description='#train batches', max=58.0, style=ProgressStyle(descriptio…"
      ]
     },
     "metadata": {},
     "output_type": "display_data"
    },
    {
     "name": "stdout",
     "output_type": "stream",
     "text": [
      "\r",
      "Epoch: 15, loss: 1.32414  \n"
     ]
    },
    {
     "data": {
      "application/vnd.jupyter.widget-view+json": {
       "model_id": "",
       "version_major": 2,
       "version_minor": 0
      },
      "text/plain": [
       "HBox(children=(FloatProgress(value=0.0, description='#train batches', max=58.0, style=ProgressStyle(descriptio…"
      ]
     },
     "metadata": {},
     "output_type": "display_data"
    },
    {
     "name": "stdout",
     "output_type": "stream",
     "text": [
      "\r",
      "Epoch: 16, loss: 1.32317  \n"
     ]
    },
    {
     "data": {
      "application/vnd.jupyter.widget-view+json": {
       "model_id": "",
       "version_major": 2,
       "version_minor": 0
      },
      "text/plain": [
       "HBox(children=(FloatProgress(value=0.0, description='#train batches', max=58.0, style=ProgressStyle(descriptio…"
      ]
     },
     "metadata": {},
     "output_type": "display_data"
    },
    {
     "name": "stdout",
     "output_type": "stream",
     "text": [
      "\r",
      "Epoch: 17, loss: 1.32228  \n"
     ]
    },
    {
     "data": {
      "application/vnd.jupyter.widget-view+json": {
       "model_id": "",
       "version_major": 2,
       "version_minor": 0
      },
      "text/plain": [
       "HBox(children=(FloatProgress(value=0.0, description='#train batches', max=58.0, style=ProgressStyle(descriptio…"
      ]
     },
     "metadata": {},
     "output_type": "display_data"
    },
    {
     "name": "stdout",
     "output_type": "stream",
     "text": [
      "\r",
      "Epoch: 18, loss: 1.32148  \n"
     ]
    },
    {
     "data": {
      "application/vnd.jupyter.widget-view+json": {
       "model_id": "",
       "version_major": 2,
       "version_minor": 0
      },
      "text/plain": [
       "HBox(children=(FloatProgress(value=0.0, description='#train batches', max=58.0, style=ProgressStyle(descriptio…"
      ]
     },
     "metadata": {},
     "output_type": "display_data"
    },
    {
     "name": "stdout",
     "output_type": "stream",
     "text": [
      "\r",
      "Epoch: 19, loss: 1.32075  \n"
     ]
    }
   ],
   "source": [
    "for epoch in range(20):\n",
    "    for batch_id, (sliding_window, label) in tqdm(enumerate(dataset_sampler_loader), total=len(dataset_sampler_loader), desc=\"#train batches\", leave=False):\n",
    "\n",
    "        lstm.train()\n",
    "        outputs = lstm(sliding_window)\n",
    "        optimizer.zero_grad()\n",
    "        loss = criterion(outputs,label)\n",
    "\n",
    "        loss.backward()\n",
    "        optimizer.step()\n",
    "\n",
    "    print(\"Epoch: %d, loss: %1.5f  \" %(epoch, loss.cpu().item()))"
   ]
  },
  {
   "cell_type": "code",
   "execution_count": null,
   "metadata": {},
   "outputs": [],
   "source": [
    "for epoch in range(1):\n",
    "\n",
    "    for train,label in zip(base,predictions):\n",
    "        train_tensor = torch.tensor(train).type(dtype=torch.float)\n",
    "        label_tensor =  torch.tensor(label).type(dtype=torch.float)\n",
    "        lstm.train()\n",
    "        outputs = lstm(train_tensor.reshape(1,1,14))\n",
    "        optimizer.zero_grad()\n",
    "        loss = criterion(outputs,label_tensor)\n",
    "\n",
    "        loss.backward()\n",
    "        optimizer.step()\n",
    "\n",
    "    print(\"Epoch: %d, loss: %1.5f  \" %(epoch, loss.cpu().item()))"
   ]
  },
  {
   "cell_type": "code",
   "execution_count": 49,
   "metadata": {},
   "outputs": [],
   "source": [
    "\n",
    "\n",
    "# get input data for predictions\n",
    "X_pred = sales.iloc[:,-timesteps:].values\n",
    "\n",
    "X_pred = scaler.transform(X_pred.T)\n",
    "X_pred = X_pred.reshape(1, X_pred.shape[0], X_pred.shape[1])\n",
    "\n",
    "X_pred = torch.tensor(X_pred).type(dtype=torch.float)"
   ]
  },
  {
   "cell_type": "code",
   "execution_count": 50,
   "metadata": {},
   "outputs": [
    {
     "data": {
      "text/plain": [
       "torch.Size([1, 50, 30490])"
      ]
     },
     "execution_count": 50,
     "metadata": {},
     "output_type": "execute_result"
    }
   ],
   "source": [
    "X_pred.shape\n",
    "# X_pred = X_pred.reshape(1,30490,14)"
   ]
  },
  {
   "cell_type": "code",
   "execution_count": 51,
   "metadata": {},
   "outputs": [],
   "source": [
    "\n",
    "# get predictions\n",
    "# norm_pred = lstm(X_pred).detach()\n",
    "# norm_pred.shape\n",
    "\n",
    "# norm_pred = norm_pred.reshape(norm_pred.shape[1],norm_pred.shape[2])\n",
    "\n",
    "# predictions = scaler.inverse_transform(norm_pred)\n",
    "# # norm_pred += sales_mean\n",
    "# # norm_pred *= sales_std\n",
    "# predictions = np.round(np.abs(norm_pred)).numpy()"
   ]
  },
  {
   "cell_type": "code",
   "execution_count": 52,
   "metadata": {},
   "outputs": [
    {
     "data": {
      "text/plain": [
       "LSTM(\n",
       "  (lstm1): LSTM(50, 10, num_layers=2)\n",
       "  (lin): Linear(in_features=10, out_features=1, bias=True)\n",
       ")"
      ]
     },
     "execution_count": 52,
     "metadata": {},
     "output_type": "execute_result"
    }
   ],
   "source": [
    "lstm.eval()"
   ]
  },
  {
   "cell_type": "code",
   "execution_count": 53,
   "metadata": {},
   "outputs": [
    {
     "name": "stdout",
     "output_type": "stream",
     "text": [
      "50\n",
      "50\n",
      "torch.Size([1, 50, 30490])\n",
      "torch.Size([1, 50, 30490])\n",
      "[[0.5370785  0.49526098 0.2740485  ... 1.5622959  0.85911125 0.85050523]]\n",
      "-----\n",
      "None\n",
      "51\n",
      "50\n",
      "torch.Size([1, 50, 30490])\n",
      "torch.Size([1, 49, 30490])\n",
      "[[0.5370785  0.49526098 0.2740485  ... 1.5622959  0.85911125 0.85050523]]\n",
      "-----\n",
      "None\n",
      "52\n",
      "50\n",
      "torch.Size([1, 50, 30490])\n",
      "torch.Size([1, 48, 30490])\n",
      "[[0.5370785  0.49526098 0.2740485  ... 1.5622959  0.85911125 0.85050523]]\n",
      "-----\n",
      "None\n",
      "53\n",
      "50\n",
      "torch.Size([1, 50, 30490])\n",
      "torch.Size([1, 47, 30490])\n",
      "[[0.5370785  0.49526098 0.2740485  ... 1.5622959  0.85911125 0.85050523]]\n",
      "-----\n",
      "None\n",
      "54\n",
      "50\n",
      "torch.Size([1, 50, 30490])\n",
      "torch.Size([1, 46, 30490])\n",
      "[[0.5370785  0.49526098 0.2740485  ... 1.5622959  0.85911125 0.85050523]]\n",
      "-----\n",
      "None\n",
      "55\n",
      "50\n",
      "torch.Size([1, 50, 30490])\n",
      "torch.Size([1, 45, 30490])\n",
      "[[0.5370785  0.49526098 0.2740485  ... 1.5622959  0.85911125 0.85050523]]\n",
      "-----\n",
      "None\n",
      "56\n",
      "50\n",
      "torch.Size([1, 50, 30490])\n",
      "torch.Size([1, 44, 30490])\n",
      "[[0.5370785  0.49526098 0.2740485  ... 1.5622959  0.85911125 0.85050523]]\n",
      "-----\n",
      "None\n",
      "57\n",
      "50\n",
      "torch.Size([1, 50, 30490])\n",
      "torch.Size([1, 43, 30490])\n",
      "[[0.5370785  0.49526098 0.2740485  ... 1.5622959  0.85911125 0.85050523]]\n",
      "-----\n",
      "None\n",
      "58\n",
      "50\n",
      "torch.Size([1, 50, 30490])\n",
      "torch.Size([1, 42, 30490])\n",
      "[[0.5370785  0.49526098 0.2740485  ... 1.5622959  0.85911125 0.85050523]]\n",
      "-----\n",
      "None\n",
      "59\n",
      "50\n",
      "torch.Size([1, 50, 30490])\n",
      "torch.Size([1, 41, 30490])\n",
      "[[0.5370785  0.49526098 0.2740485  ... 1.5622959  0.85911125 0.85050523]]\n",
      "-----\n",
      "None\n",
      "60\n",
      "50\n",
      "torch.Size([1, 50, 30490])\n",
      "torch.Size([1, 40, 30490])\n",
      "[[0.5370785  0.49526098 0.2740485  ... 1.5622959  0.85911125 0.85050523]]\n",
      "-----\n",
      "None\n",
      "61\n",
      "50\n",
      "torch.Size([1, 50, 30490])\n",
      "torch.Size([1, 39, 30490])\n",
      "[[0.5370785  0.49526098 0.2740485  ... 1.5622959  0.85911125 0.85050523]]\n",
      "-----\n",
      "None\n",
      "62\n",
      "50\n",
      "torch.Size([1, 50, 30490])\n",
      "torch.Size([1, 38, 30490])\n",
      "[[0.5370785  0.49526098 0.2740485  ... 1.5622959  0.85911125 0.85050523]]\n",
      "-----\n",
      "None\n",
      "63\n",
      "50\n",
      "torch.Size([1, 50, 30490])\n",
      "torch.Size([1, 37, 30490])\n",
      "[[0.5370785  0.49526098 0.2740485  ... 1.5622959  0.85911125 0.85050523]]\n",
      "-----\n",
      "None\n",
      "64\n",
      "50\n",
      "torch.Size([1, 50, 30490])\n",
      "torch.Size([1, 36, 30490])\n",
      "[[0.5370785  0.49526098 0.2740485  ... 1.5622959  0.85911125 0.85050523]]\n",
      "-----\n",
      "None\n",
      "65\n",
      "50\n",
      "torch.Size([1, 50, 30490])\n",
      "torch.Size([1, 35, 30490])\n",
      "[[0.5370785  0.49526098 0.2740485  ... 1.5622959  0.85911125 0.85050523]]\n",
      "-----\n",
      "None\n",
      "66\n",
      "50\n",
      "torch.Size([1, 50, 30490])\n",
      "torch.Size([1, 34, 30490])\n",
      "[[0.5370785  0.49526098 0.2740485  ... 1.5622959  0.85911125 0.85050523]]\n",
      "-----\n",
      "None\n",
      "67\n",
      "50\n",
      "torch.Size([1, 50, 30490])\n",
      "torch.Size([1, 33, 30490])\n",
      "[[0.5370785  0.49526098 0.2740485  ... 1.5622959  0.85911125 0.85050523]]\n",
      "-----\n",
      "None\n",
      "68\n",
      "50\n",
      "torch.Size([1, 50, 30490])\n",
      "torch.Size([1, 32, 30490])\n",
      "[[0.5370785  0.49526098 0.2740485  ... 1.5622959  0.85911125 0.85050523]]\n",
      "-----\n",
      "None\n",
      "69\n",
      "50\n",
      "torch.Size([1, 50, 30490])\n",
      "torch.Size([1, 31, 30490])\n",
      "[[0.5370785  0.49526098 0.2740485  ... 1.5622959  0.85911125 0.85050523]]\n",
      "-----\n",
      "None\n",
      "70\n",
      "50\n",
      "torch.Size([1, 50, 30490])\n",
      "torch.Size([1, 30, 30490])\n",
      "[[0.5370785  0.49526098 0.2740485  ... 1.5622959  0.85911125 0.85050523]]\n",
      "-----\n",
      "None\n",
      "71\n",
      "50\n",
      "torch.Size([1, 50, 30490])\n",
      "torch.Size([1, 29, 30490])\n",
      "[[0.5370785  0.49526098 0.2740485  ... 1.5622959  0.85911125 0.85050523]]\n",
      "-----\n",
      "None\n",
      "72\n",
      "50\n",
      "torch.Size([1, 50, 30490])\n",
      "torch.Size([1, 28, 30490])\n",
      "[[0.5370785  0.49526098 0.2740485  ... 1.5622959  0.85911125 0.85050523]]\n",
      "-----\n",
      "None\n",
      "73\n",
      "50\n",
      "torch.Size([1, 50, 30490])\n",
      "torch.Size([1, 27, 30490])\n",
      "[[0.5370785  0.49526098 0.2740485  ... 1.5622959  0.85911125 0.85050523]]\n",
      "-----\n",
      "None\n",
      "74\n",
      "50\n",
      "torch.Size([1, 50, 30490])\n",
      "torch.Size([1, 26, 30490])\n",
      "[[0.5370785  0.49526098 0.2740485  ... 1.5622959  0.85911125 0.85050523]]\n",
      "-----\n",
      "None\n",
      "75\n",
      "50\n",
      "torch.Size([1, 50, 30490])\n",
      "torch.Size([1, 25, 30490])\n",
      "[[0.5370785  0.49526098 0.2740485  ... 1.5622959  0.85911125 0.85050523]]\n",
      "-----\n",
      "None\n",
      "76\n",
      "50\n",
      "torch.Size([1, 50, 30490])\n",
      "torch.Size([1, 24, 30490])\n",
      "[[0.5370785  0.49526098 0.2740485  ... 1.5622959  0.85911125 0.85050523]]\n",
      "-----\n",
      "None\n",
      "77\n",
      "50\n",
      "torch.Size([1, 50, 30490])\n",
      "torch.Size([1, 23, 30490])\n",
      "[[0.5370785  0.49526098 0.2740485  ... 1.5622959  0.85911125 0.85050523]]\n",
      "-----\n",
      "None\n"
     ]
    }
   ],
   "source": [
    "predictions = []\n",
    "\n",
    "for i in range(timesteps, timesteps+28):\n",
    "    print(i)\n",
    "    print(timesteps)\n",
    "    print(X_pred.shape)\n",
    "    print(X_pred[:,i-timesteps:i:].shape)\n",
    "#     prediction = lstm(X_pred[:,i-timesteps:i:].reshape(1,30490,timesteps))\n",
    "    prediction = lstm(X_pred.reshape(1,30490,timesteps))\n",
    "\n",
    "    rescaled_prediction = scaler.inverse_transform(prediction.reshape(1,30490).detach().numpy())\n",
    "    print(rescaled_prediction)\n",
    "    print(\"-----\")\n",
    "    print(predictions.append(rescaled_prediction))\n",
    "    "
   ]
  },
  {
   "cell_type": "code",
   "execution_count": 54,
   "metadata": {},
   "outputs": [
    {
     "data": {
      "text/plain": [
       "[array([[0.5370785 , 0.49526098, 0.2740485 , ..., 1.5622959 , 0.85911125,\n",
       "         0.85050523]], dtype=float32),\n",
       " array([[0.5370785 , 0.49526098, 0.2740485 , ..., 1.5622959 , 0.85911125,\n",
       "         0.85050523]], dtype=float32),\n",
       " array([[0.5370785 , 0.49526098, 0.2740485 , ..., 1.5622959 , 0.85911125,\n",
       "         0.85050523]], dtype=float32),\n",
       " array([[0.5370785 , 0.49526098, 0.2740485 , ..., 1.5622959 , 0.85911125,\n",
       "         0.85050523]], dtype=float32),\n",
       " array([[0.5370785 , 0.49526098, 0.2740485 , ..., 1.5622959 , 0.85911125,\n",
       "         0.85050523]], dtype=float32),\n",
       " array([[0.5370785 , 0.49526098, 0.2740485 , ..., 1.5622959 , 0.85911125,\n",
       "         0.85050523]], dtype=float32),\n",
       " array([[0.5370785 , 0.49526098, 0.2740485 , ..., 1.5622959 , 0.85911125,\n",
       "         0.85050523]], dtype=float32),\n",
       " array([[0.5370785 , 0.49526098, 0.2740485 , ..., 1.5622959 , 0.85911125,\n",
       "         0.85050523]], dtype=float32),\n",
       " array([[0.5370785 , 0.49526098, 0.2740485 , ..., 1.5622959 , 0.85911125,\n",
       "         0.85050523]], dtype=float32),\n",
       " array([[0.5370785 , 0.49526098, 0.2740485 , ..., 1.5622959 , 0.85911125,\n",
       "         0.85050523]], dtype=float32),\n",
       " array([[0.5370785 , 0.49526098, 0.2740485 , ..., 1.5622959 , 0.85911125,\n",
       "         0.85050523]], dtype=float32),\n",
       " array([[0.5370785 , 0.49526098, 0.2740485 , ..., 1.5622959 , 0.85911125,\n",
       "         0.85050523]], dtype=float32),\n",
       " array([[0.5370785 , 0.49526098, 0.2740485 , ..., 1.5622959 , 0.85911125,\n",
       "         0.85050523]], dtype=float32),\n",
       " array([[0.5370785 , 0.49526098, 0.2740485 , ..., 1.5622959 , 0.85911125,\n",
       "         0.85050523]], dtype=float32),\n",
       " array([[0.5370785 , 0.49526098, 0.2740485 , ..., 1.5622959 , 0.85911125,\n",
       "         0.85050523]], dtype=float32),\n",
       " array([[0.5370785 , 0.49526098, 0.2740485 , ..., 1.5622959 , 0.85911125,\n",
       "         0.85050523]], dtype=float32),\n",
       " array([[0.5370785 , 0.49526098, 0.2740485 , ..., 1.5622959 , 0.85911125,\n",
       "         0.85050523]], dtype=float32),\n",
       " array([[0.5370785 , 0.49526098, 0.2740485 , ..., 1.5622959 , 0.85911125,\n",
       "         0.85050523]], dtype=float32),\n",
       " array([[0.5370785 , 0.49526098, 0.2740485 , ..., 1.5622959 , 0.85911125,\n",
       "         0.85050523]], dtype=float32),\n",
       " array([[0.5370785 , 0.49526098, 0.2740485 , ..., 1.5622959 , 0.85911125,\n",
       "         0.85050523]], dtype=float32),\n",
       " array([[0.5370785 , 0.49526098, 0.2740485 , ..., 1.5622959 , 0.85911125,\n",
       "         0.85050523]], dtype=float32),\n",
       " array([[0.5370785 , 0.49526098, 0.2740485 , ..., 1.5622959 , 0.85911125,\n",
       "         0.85050523]], dtype=float32),\n",
       " array([[0.5370785 , 0.49526098, 0.2740485 , ..., 1.5622959 , 0.85911125,\n",
       "         0.85050523]], dtype=float32),\n",
       " array([[0.5370785 , 0.49526098, 0.2740485 , ..., 1.5622959 , 0.85911125,\n",
       "         0.85050523]], dtype=float32),\n",
       " array([[0.5370785 , 0.49526098, 0.2740485 , ..., 1.5622959 , 0.85911125,\n",
       "         0.85050523]], dtype=float32),\n",
       " array([[0.5370785 , 0.49526098, 0.2740485 , ..., 1.5622959 , 0.85911125,\n",
       "         0.85050523]], dtype=float32),\n",
       " array([[0.5370785 , 0.49526098, 0.2740485 , ..., 1.5622959 , 0.85911125,\n",
       "         0.85050523]], dtype=float32),\n",
       " array([[0.5370785 , 0.49526098, 0.2740485 , ..., 1.5622959 , 0.85911125,\n",
       "         0.85050523]], dtype=float32)]"
      ]
     },
     "execution_count": 54,
     "metadata": {},
     "output_type": "execute_result"
    }
   ],
   "source": [
    "predictions"
   ]
  },
  {
   "cell_type": "code",
   "execution_count": 55,
   "metadata": {},
   "outputs": [],
   "source": [
    "submission = pd.DataFrame(data=np.array(predictions).reshape(28,30490))"
   ]
  },
  {
   "cell_type": "code",
   "execution_count": 56,
   "metadata": {},
   "outputs": [],
   "source": [
    "validation = pd.concat([submission.T, submission.T])\n",
    "validation = validation.astype(int)\n",
    "\n",
    "validation.reset_index(inplace=True, drop=True)\n",
    "\n",
    "validation['id'] = submission_file.id\n",
    "validation = validation.reindex(columns=['id'] + [c for c in validation.columns if c != 'id'], copy=False)\n",
    "\n",
    "validation.columns = ['id'] + [f\"F{i}\" for i in range(1, 29)]\n",
    "\n",
    "validation.to_csv('submission_1daylstm_lowlr_50days.csv', index=False)"
   ]
  },
  {
   "cell_type": "code",
   "execution_count": 57,
   "metadata": {},
   "outputs": [
    {
     "data": {
      "text/html": [
       "<div>\n",
       "<style scoped>\n",
       "    .dataframe tbody tr th:only-of-type {\n",
       "        vertical-align: middle;\n",
       "    }\n",
       "\n",
       "    .dataframe tbody tr th {\n",
       "        vertical-align: top;\n",
       "    }\n",
       "\n",
       "    .dataframe thead th {\n",
       "        text-align: right;\n",
       "    }\n",
       "</style>\n",
       "<table border=\"1\" class=\"dataframe\">\n",
       "  <thead>\n",
       "    <tr style=\"text-align: right;\">\n",
       "      <th></th>\n",
       "      <th>id</th>\n",
       "      <th>F1</th>\n",
       "      <th>F2</th>\n",
       "      <th>F3</th>\n",
       "      <th>F4</th>\n",
       "      <th>F5</th>\n",
       "      <th>F6</th>\n",
       "      <th>F7</th>\n",
       "      <th>F8</th>\n",
       "      <th>F9</th>\n",
       "      <th>...</th>\n",
       "      <th>F19</th>\n",
       "      <th>F20</th>\n",
       "      <th>F21</th>\n",
       "      <th>F22</th>\n",
       "      <th>F23</th>\n",
       "      <th>F24</th>\n",
       "      <th>F25</th>\n",
       "      <th>F26</th>\n",
       "      <th>F27</th>\n",
       "      <th>F28</th>\n",
       "    </tr>\n",
       "  </thead>\n",
       "  <tbody>\n",
       "    <tr>\n",
       "      <th>0</th>\n",
       "      <td>HOBBIES_1_001_CA_1_validation</td>\n",
       "      <td>0</td>\n",
       "      <td>0</td>\n",
       "      <td>0</td>\n",
       "      <td>0</td>\n",
       "      <td>0</td>\n",
       "      <td>0</td>\n",
       "      <td>0</td>\n",
       "      <td>0</td>\n",
       "      <td>0</td>\n",
       "      <td>...</td>\n",
       "      <td>0</td>\n",
       "      <td>0</td>\n",
       "      <td>0</td>\n",
       "      <td>0</td>\n",
       "      <td>0</td>\n",
       "      <td>0</td>\n",
       "      <td>0</td>\n",
       "      <td>0</td>\n",
       "      <td>0</td>\n",
       "      <td>0</td>\n",
       "    </tr>\n",
       "    <tr>\n",
       "      <th>1</th>\n",
       "      <td>HOBBIES_1_002_CA_1_validation</td>\n",
       "      <td>0</td>\n",
       "      <td>0</td>\n",
       "      <td>0</td>\n",
       "      <td>0</td>\n",
       "      <td>0</td>\n",
       "      <td>0</td>\n",
       "      <td>0</td>\n",
       "      <td>0</td>\n",
       "      <td>0</td>\n",
       "      <td>...</td>\n",
       "      <td>0</td>\n",
       "      <td>0</td>\n",
       "      <td>0</td>\n",
       "      <td>0</td>\n",
       "      <td>0</td>\n",
       "      <td>0</td>\n",
       "      <td>0</td>\n",
       "      <td>0</td>\n",
       "      <td>0</td>\n",
       "      <td>0</td>\n",
       "    </tr>\n",
       "    <tr>\n",
       "      <th>2</th>\n",
       "      <td>HOBBIES_1_003_CA_1_validation</td>\n",
       "      <td>0</td>\n",
       "      <td>0</td>\n",
       "      <td>0</td>\n",
       "      <td>0</td>\n",
       "      <td>0</td>\n",
       "      <td>0</td>\n",
       "      <td>0</td>\n",
       "      <td>0</td>\n",
       "      <td>0</td>\n",
       "      <td>...</td>\n",
       "      <td>0</td>\n",
       "      <td>0</td>\n",
       "      <td>0</td>\n",
       "      <td>0</td>\n",
       "      <td>0</td>\n",
       "      <td>0</td>\n",
       "      <td>0</td>\n",
       "      <td>0</td>\n",
       "      <td>0</td>\n",
       "      <td>0</td>\n",
       "    </tr>\n",
       "    <tr>\n",
       "      <th>3</th>\n",
       "      <td>HOBBIES_1_004_CA_1_validation</td>\n",
       "      <td>2</td>\n",
       "      <td>2</td>\n",
       "      <td>2</td>\n",
       "      <td>2</td>\n",
       "      <td>2</td>\n",
       "      <td>2</td>\n",
       "      <td>2</td>\n",
       "      <td>2</td>\n",
       "      <td>2</td>\n",
       "      <td>...</td>\n",
       "      <td>2</td>\n",
       "      <td>2</td>\n",
       "      <td>2</td>\n",
       "      <td>2</td>\n",
       "      <td>2</td>\n",
       "      <td>2</td>\n",
       "      <td>2</td>\n",
       "      <td>2</td>\n",
       "      <td>2</td>\n",
       "      <td>2</td>\n",
       "    </tr>\n",
       "    <tr>\n",
       "      <th>4</th>\n",
       "      <td>HOBBIES_1_005_CA_1_validation</td>\n",
       "      <td>1</td>\n",
       "      <td>1</td>\n",
       "      <td>1</td>\n",
       "      <td>1</td>\n",
       "      <td>1</td>\n",
       "      <td>1</td>\n",
       "      <td>1</td>\n",
       "      <td>1</td>\n",
       "      <td>1</td>\n",
       "      <td>...</td>\n",
       "      <td>1</td>\n",
       "      <td>1</td>\n",
       "      <td>1</td>\n",
       "      <td>1</td>\n",
       "      <td>1</td>\n",
       "      <td>1</td>\n",
       "      <td>1</td>\n",
       "      <td>1</td>\n",
       "      <td>1</td>\n",
       "      <td>1</td>\n",
       "    </tr>\n",
       "    <tr>\n",
       "      <th>...</th>\n",
       "      <td>...</td>\n",
       "      <td>...</td>\n",
       "      <td>...</td>\n",
       "      <td>...</td>\n",
       "      <td>...</td>\n",
       "      <td>...</td>\n",
       "      <td>...</td>\n",
       "      <td>...</td>\n",
       "      <td>...</td>\n",
       "      <td>...</td>\n",
       "      <td>...</td>\n",
       "      <td>...</td>\n",
       "      <td>...</td>\n",
       "      <td>...</td>\n",
       "      <td>...</td>\n",
       "      <td>...</td>\n",
       "      <td>...</td>\n",
       "      <td>...</td>\n",
       "      <td>...</td>\n",
       "      <td>...</td>\n",
       "      <td>...</td>\n",
       "    </tr>\n",
       "    <tr>\n",
       "      <th>60975</th>\n",
       "      <td>FOODS_3_823_WI_3_evaluation</td>\n",
       "      <td>0</td>\n",
       "      <td>0</td>\n",
       "      <td>0</td>\n",
       "      <td>0</td>\n",
       "      <td>0</td>\n",
       "      <td>0</td>\n",
       "      <td>0</td>\n",
       "      <td>0</td>\n",
       "      <td>0</td>\n",
       "      <td>...</td>\n",
       "      <td>0</td>\n",
       "      <td>0</td>\n",
       "      <td>0</td>\n",
       "      <td>0</td>\n",
       "      <td>0</td>\n",
       "      <td>0</td>\n",
       "      <td>0</td>\n",
       "      <td>0</td>\n",
       "      <td>0</td>\n",
       "      <td>0</td>\n",
       "    </tr>\n",
       "    <tr>\n",
       "      <th>60976</th>\n",
       "      <td>FOODS_3_824_WI_3_evaluation</td>\n",
       "      <td>0</td>\n",
       "      <td>0</td>\n",
       "      <td>0</td>\n",
       "      <td>0</td>\n",
       "      <td>0</td>\n",
       "      <td>0</td>\n",
       "      <td>0</td>\n",
       "      <td>0</td>\n",
       "      <td>0</td>\n",
       "      <td>...</td>\n",
       "      <td>0</td>\n",
       "      <td>0</td>\n",
       "      <td>0</td>\n",
       "      <td>0</td>\n",
       "      <td>0</td>\n",
       "      <td>0</td>\n",
       "      <td>0</td>\n",
       "      <td>0</td>\n",
       "      <td>0</td>\n",
       "      <td>0</td>\n",
       "    </tr>\n",
       "    <tr>\n",
       "      <th>60977</th>\n",
       "      <td>FOODS_3_825_WI_3_evaluation</td>\n",
       "      <td>1</td>\n",
       "      <td>1</td>\n",
       "      <td>1</td>\n",
       "      <td>1</td>\n",
       "      <td>1</td>\n",
       "      <td>1</td>\n",
       "      <td>1</td>\n",
       "      <td>1</td>\n",
       "      <td>1</td>\n",
       "      <td>...</td>\n",
       "      <td>1</td>\n",
       "      <td>1</td>\n",
       "      <td>1</td>\n",
       "      <td>1</td>\n",
       "      <td>1</td>\n",
       "      <td>1</td>\n",
       "      <td>1</td>\n",
       "      <td>1</td>\n",
       "      <td>1</td>\n",
       "      <td>1</td>\n",
       "    </tr>\n",
       "    <tr>\n",
       "      <th>60978</th>\n",
       "      <td>FOODS_3_826_WI_3_evaluation</td>\n",
       "      <td>0</td>\n",
       "      <td>0</td>\n",
       "      <td>0</td>\n",
       "      <td>0</td>\n",
       "      <td>0</td>\n",
       "      <td>0</td>\n",
       "      <td>0</td>\n",
       "      <td>0</td>\n",
       "      <td>0</td>\n",
       "      <td>...</td>\n",
       "      <td>0</td>\n",
       "      <td>0</td>\n",
       "      <td>0</td>\n",
       "      <td>0</td>\n",
       "      <td>0</td>\n",
       "      <td>0</td>\n",
       "      <td>0</td>\n",
       "      <td>0</td>\n",
       "      <td>0</td>\n",
       "      <td>0</td>\n",
       "    </tr>\n",
       "    <tr>\n",
       "      <th>60979</th>\n",
       "      <td>FOODS_3_827_WI_3_evaluation</td>\n",
       "      <td>0</td>\n",
       "      <td>0</td>\n",
       "      <td>0</td>\n",
       "      <td>0</td>\n",
       "      <td>0</td>\n",
       "      <td>0</td>\n",
       "      <td>0</td>\n",
       "      <td>0</td>\n",
       "      <td>0</td>\n",
       "      <td>...</td>\n",
       "      <td>0</td>\n",
       "      <td>0</td>\n",
       "      <td>0</td>\n",
       "      <td>0</td>\n",
       "      <td>0</td>\n",
       "      <td>0</td>\n",
       "      <td>0</td>\n",
       "      <td>0</td>\n",
       "      <td>0</td>\n",
       "      <td>0</td>\n",
       "    </tr>\n",
       "  </tbody>\n",
       "</table>\n",
       "<p>60980 rows × 29 columns</p>\n",
       "</div>"
      ],
      "text/plain": [
       "                                  id  F1  F2  F3  F4  F5  F6  F7  F8  F9  ...  \\\n",
       "0      HOBBIES_1_001_CA_1_validation   0   0   0   0   0   0   0   0   0  ...   \n",
       "1      HOBBIES_1_002_CA_1_validation   0   0   0   0   0   0   0   0   0  ...   \n",
       "2      HOBBIES_1_003_CA_1_validation   0   0   0   0   0   0   0   0   0  ...   \n",
       "3      HOBBIES_1_004_CA_1_validation   2   2   2   2   2   2   2   2   2  ...   \n",
       "4      HOBBIES_1_005_CA_1_validation   1   1   1   1   1   1   1   1   1  ...   \n",
       "...                              ...  ..  ..  ..  ..  ..  ..  ..  ..  ..  ...   \n",
       "60975    FOODS_3_823_WI_3_evaluation   0   0   0   0   0   0   0   0   0  ...   \n",
       "60976    FOODS_3_824_WI_3_evaluation   0   0   0   0   0   0   0   0   0  ...   \n",
       "60977    FOODS_3_825_WI_3_evaluation   1   1   1   1   1   1   1   1   1  ...   \n",
       "60978    FOODS_3_826_WI_3_evaluation   0   0   0   0   0   0   0   0   0  ...   \n",
       "60979    FOODS_3_827_WI_3_evaluation   0   0   0   0   0   0   0   0   0  ...   \n",
       "\n",
       "       F19  F20  F21  F22  F23  F24  F25  F26  F27  F28  \n",
       "0        0    0    0    0    0    0    0    0    0    0  \n",
       "1        0    0    0    0    0    0    0    0    0    0  \n",
       "2        0    0    0    0    0    0    0    0    0    0  \n",
       "3        2    2    2    2    2    2    2    2    2    2  \n",
       "4        1    1    1    1    1    1    1    1    1    1  \n",
       "...    ...  ...  ...  ...  ...  ...  ...  ...  ...  ...  \n",
       "60975    0    0    0    0    0    0    0    0    0    0  \n",
       "60976    0    0    0    0    0    0    0    0    0    0  \n",
       "60977    1    1    1    1    1    1    1    1    1    1  \n",
       "60978    0    0    0    0    0    0    0    0    0    0  \n",
       "60979    0    0    0    0    0    0    0    0    0    0  \n",
       "\n",
       "[60980 rows x 29 columns]"
      ]
     },
     "execution_count": 57,
     "metadata": {},
     "output_type": "execute_result"
    }
   ],
   "source": [
    "validation"
   ]
  },
  {
   "cell_type": "code",
   "execution_count": null,
   "metadata": {},
   "outputs": [],
   "source": [
    "# create submission file\n",
    "\n",
    "validation = pd.concat([pd.DataFrame(predictions)])\n",
    "validation = validation.astype(int)\n",
    "\n",
    "validation.reset_index(inplace=True, drop=True)\n",
    "\n",
    "validation['id'] = submission_file.id\n",
    "validation = validation.reindex(columns=['id'] + [c for c in validation.columns if c != 'id'], copy=False)\n",
    "\n",
    "validation.columns = ['id'] + [f\"F{i}\" for i in range(1, 29)]\n",
    "\n",
    "validation.to_csv('submission_7.csv', index=False)"
   ]
  },
  {
   "cell_type": "code",
   "execution_count": null,
   "metadata": {},
   "outputs": [],
   "source": [
    "validation"
   ]
  },
  {
   "cell_type": "code",
   "execution_count": null,
   "metadata": {},
   "outputs": [],
   "source": [
    "eval_file.iloc[0:35,-28:]"
   ]
  },
  {
   "cell_type": "code",
   "execution_count": null,
   "metadata": {},
   "outputs": [],
   "source": []
  }
 ],
 "metadata": {
  "kernelspec": {
   "display_name": "Python 3",
   "language": "python",
   "name": "python3"
  },
  "language_info": {
   "codemirror_mode": {
    "name": "ipython",
    "version": 3
   },
   "file_extension": ".py",
   "mimetype": "text/x-python",
   "name": "python",
   "nbconvert_exporter": "python",
   "pygments_lexer": "ipython3",
   "version": "3.7.6"
  }
 },
 "nbformat": 4,
 "nbformat_minor": 4
}
