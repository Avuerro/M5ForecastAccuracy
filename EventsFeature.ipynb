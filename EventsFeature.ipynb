{
 "cells": [
  {
   "cell_type": "code",
   "execution_count": null,
   "metadata": {},
   "outputs": [],
   "source": [
    "import pandas as pd\n",
    "import numpy as np"
   ]
  },
  {
   "cell_type": "code",
   "execution_count": null,
   "metadata": {},
   "outputs": [],
   "source": [
    "# read data\n",
    "\n",
    "data_dir = 'data/'\n",
    "\n",
    "#train_sales = pd.read_csv(data_dir + 'sales_train_validation.csv')\n",
    "#sell_prices = pd.read_csv(data_dir + 'sell_prices.csv')\n",
    "calendar = pd.read_csv(data_dir + 'calendar.csv')\n",
    "#submission_file = pd.read_csv(data_dir + 'sample_submission.csv')"
   ]
  },
  {
   "cell_type": "code",
   "execution_count": null,
   "metadata": {},
   "outputs": [],
   "source": [
    "events_1 = calendar['event_name_1'].dropna()\n",
    "events_2 = calendar['event_name_2'].dropna()\n",
    "event_types_1 = calendar['event_type_1'].dropna()\n",
    "event_types_2 = calendar['event_type_2'].dropna()"
   ]
  },
  {
   "cell_type": "code",
   "execution_count": null,
   "metadata": {},
   "outputs": [],
   "source": [
    "events_2.unique()"
   ]
  },
  {
   "cell_type": "code",
   "execution_count": null,
   "metadata": {},
   "outputs": [],
   "source": [
    "print(\"There are \" + str(len(events_1.unique())) + \" unique events:\" )\n",
    "print(events_1.unique()) # note that all events in events_2 are already in events_1\n",
    "print(\"\\nNr of occurances of each event:\")\n",
    "a = events_1.value_counts()\n",
    "b = events_2.value_counts()\n",
    "\n",
    "print(a.add(b, fill_value=0))"
   ]
  },
  {
   "cell_type": "markdown",
   "metadata": {},
   "source": [
    "### Notes\n",
    "So every event only occurs 5 or 6 times in the entire dataset. Because this is so little, better use event_types instead. <br>"
   ]
  },
  {
   "cell_type": "code",
   "execution_count": null,
   "metadata": {},
   "outputs": [],
   "source": [
    "print(\"There are \" + str(len(event_types_1.unique())) + \" unique event types:\" )\n",
    "print(event_types_1.unique()) # note that all event types in events_2 are already in events_1\n",
    "\n",
    "print(\"\\nNr of occurances of each event:\")\n",
    "a = event_types_1.value_counts()\n",
    "b = event_types_2.value_counts()\n",
    "print(a.add(b, fill_value=0))"
   ]
  },
  {
   "cell_type": "markdown",
   "metadata": {},
   "source": [
    "### Notes\n",
    "Some events have a start and end date, days inbetween should also be considered events. <br>\n",
    "Because for almost all events start or end date was missing, this was hardcoded."
   ]
  },
  {
   "cell_type": "code",
   "execution_count": null,
   "metadata": {},
   "outputs": [],
   "source": [
    "# Chanukah\n",
    "calendar.iloc[[325,326,327,328,329,331,332], 8] = 'Religious'         # 2011\n",
    "calendar.iloc[330, 10] = 'Religious'                                  # 2011\n",
    "calendar.iloc[679:687, 8] = 'Religious'                               # 2012\n",
    "calendar.iloc[[1033,1035,1036,1037,1038,1039,1040], 8] = 'Religious'  # 2013\n",
    "calendar.iloc[1034, 10] = 'Religious'                                 # 2013\n",
    "calendar.iloc[1417:1425, 8] = 'Religious'                             # 2014\n",
    "calendar.iloc[1772:1780, 8] = 'Religious'                             # 2015\n",
    "\n",
    "# Lent (only first 2 weeks)\n",
    "calendar.iloc[[40,41,42,43,44,45,48,49,51,52], 8] = 'Religious'                     # 2011\n",
    "calendar.iloc[[47,50], 10] = 'Religious'                                            # 2011\n",
    "calendar.iloc[390:403, 8] = 'Religious'                                             # 2012\n",
    "calendar.iloc[[748, 749, 750, 752, 754, 755, 756, 758, 759], 8] = 'Religious'       # 2013\n",
    "calendar.iloc[[747, 751, 757], 10] = 'Religious'                                    # 2013\n",
    "calendar.iloc[[1132,1133,1134,1135,1136,1137,1139,1140,1141,1144], 8] = 'Religious' # 2014\n",
    "calendar.iloc[[1142,1143], 10] = 'Religious'                                        # 2014\n",
    "calendar.iloc[1482:1495, 8] = 'Religious'                                           # 2015\n",
    "calendar.iloc[[1839,1840,1841,1844,1846,1847,1848,1849,1850,1851], 8] = 'Religious' # 2016\n",
    "calendar.iloc[[1842,1843], 10] = 'Religious'                                        # 2016\n",
    "\n",
    "# Purim\n",
    "calendar.iloc[49, 10] = 'Religious'  # 2011\n",
    "calendar.iloc[403, 8] = 'Religious'  # 2012\n",
    "calendar.iloc[756, 8] = 'Religious'  # 2013\n",
    "calendar.iloc[1141, 10] = 'Religious'# 2014\n",
    "calendar.iloc[1495, 8] = 'Religious' # 2015\n",
    "calendar.iloc[1880, 8] = 'Religious' # 2016\n",
    "\n",
    "# Pesach\n",
    "calendar.iloc[[79,80,81,82,83,84,86], 8] = 'Religious'               # 2011 (note that on d_86, pesach is not registered bc there are already 2 events)\n",
    "calendar.iloc[[433,434,436,437,438,439,440], 8] = 'Religious'        # 2012\n",
    "calendar.iloc[435, 10] = 'Religious'                                 # 2012\n",
    "calendar.iloc[[786,787,788,789,790,791,793], 8] = 'Religious'        # 2013\n",
    "calendar.iloc[792, 10] = 'Religious'                                 # 2013\n",
    "calendar.iloc[[1171,1172,1173,1174,1175,1176,1178], 8] = 'Religious' # 2014 (note that on d_1178, pesach is not registered bc there are already 2 events)\n",
    "calendar.iloc[[1525,1526,1528,1529,1530,1531,1532], 8] = 'Religious' # 2015\n",
    "calendar.iloc[1527, 10] = 'Religious'                                # 2015\n",
    "calendar.iloc[1910:1918, 8] = 'Religious'                            # 2016\n",
    "\n",
    "# NBA Finals\n",
    "calendar.iloc[123:134, 8] = 'Sporting'                                                                      # 2011\n",
    "calendar.iloc[[501,502,503,504,506,507,508], 8] = 'Sporting'                                                # 2012\n",
    "calendar.iloc[505, 10] = 'Sporting'                                                                         # 2012\n",
    "calendar.iloc[[860,861,862,863,864,865,866,867,868,870,871,872], 8] = 'Sporting'                            # 2013\n",
    "calendar.iloc[869, 10] = 'Sporting'                                                                         # 2013\n",
    "calendar.iloc[1224:1233, 8] = 'Sporting'                                                                    # 2014\n",
    "calendar.iloc[1588:1599, 8] = 'Sporting'                                                                    # 2015\n",
    "calendar.iloc[[1952,1953,1954,1955,1957,1958,1959,1960,1961,1962,1963,1964,1965,1966,1967], 8] = 'Sporting' # 2016\n",
    "calendar.iloc[1956, 10] = 'Sporting'                                                                        # 2016\n",
    "\n",
    "# Ramadan (& Eid al-Fitr)\n",
    "calendar.iloc[185:214, 8] = 'Religious'     # 2011\n",
    "calendar.iloc[539:568, 8] = 'Religious'     # 2012\n",
    "calendar.iloc[893:922, 8] = 'Religious'     # 2013\n",
    "calendar.iloc[1248:1252, 8] = 'Religious'   # 2014\n",
    "calendar.iloc[1253:1277, 8] = 'Religious'   # 2014\n",
    "calendar.iloc[1252, 10] = 'Religious'       # 2014\n",
    "calendar.iloc[1602:1604, 8] = 'Religious'   # 2015\n",
    "calendar.iloc[1605:1617, 8] = 'Religious'   # 2015\n",
    "calendar.iloc[1618:1631, 8] = 'Religious'   # 2015\n",
    "calendar.iloc[[1604,1617], 10] = 'Religious'# 2015\n",
    "calendar.iloc[1957:1968, 8] = 'Religious'   # 2016 (note that on d_1968, ramadan is not registered bc there are already 2 events)\n",
    "\n",
    "# Eid Al-Adha\n",
    "calendar.iloc[283:286, 8] = 'Religious'  # 2011\n",
    "calendar.iloc[637:640, 8] = 'Religious'  # 2012\n",
    "calendar.iloc[991:994, 8] = 'Religious'  # 2013\n",
    "calendar.iloc[1345:1349, 8] = 'Religious'# 2014\n",
    "calendar.iloc[1700:1703, 8] = 'Religious'# 2015"
   ]
  },
  {
   "cell_type": "markdown",
   "metadata": {},
   "source": [
    "### Notes\n",
    "Because the occurances of an event most likely influences the sales on the day before, we will use one-hot-encoding to create 5 new features: tomorrowIsCulturalEvent, tomorrowIsNationalEvent, tomorrowIsReligiousEvent, tomorrowIsSportingEvent, tomorrowIsNoEvent."
   ]
  },
  {
   "cell_type": "code",
   "execution_count": null,
   "metadata": {},
   "outputs": [],
   "source": [
    "# create one-hot-encoding\n",
    "\n",
    "events = calendar['event_type_1'].fillna('No event')\n",
    "events_2 = calendar['event_type_2'].fillna('No event')\n",
    "\n",
    "dummies = pd.get_dummies(events)\n",
    "dummies_2 = pd.get_dummies(events_2)\n",
    "\n",
    "combined = dummies.add(dummies_2, fill_value=0).astype(int)\n",
    "\n",
    "for index, row in combined.iterrows():\n",
    "    if (row['Cultural'] > 0) or (row['National'] > 0) or (row['Religious'] > 0) or (row['Sporting'] > 0):\n",
    "        row['No event'] = 0\n",
    "    if (row['No event'] == 2):\n",
    "        row['No event'] = 1\n",
    "                \n",
    "combined.columns = ['tomorrowIsCulturalEvent', 'tomorrowIsNationalEvent', 'tomorrowIsNoEvent', 'tomorrowIsReligiousEvent', 'tomorrowIsSportingEvent']\n",
    "combined = combined.shift(-1, axis=0)[:-2].astype(int)"
   ]
  },
  {
   "cell_type": "code",
   "execution_count": null,
   "metadata": {},
   "outputs": [],
   "source": [
    "combined.to_csv('eventencoding.csv', index=False)"
   ]
  }
 ],
 "metadata": {
  "kernelspec": {
   "display_name": "Python 3",
   "language": "python",
   "name": "python3"
  },
  "language_info": {
   "codemirror_mode": {
    "name": "ipython",
    "version": 3
   },
   "file_extension": ".py",
   "mimetype": "text/x-python",
   "name": "python",
   "nbconvert_exporter": "python",
   "pygments_lexer": "ipython3",
   "version": "3.7.6"
  }
 },
 "nbformat": 4,
 "nbformat_minor": 4
}
