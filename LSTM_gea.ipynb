{
 "cells": [
  {
   "cell_type": "code",
   "execution_count": null,
   "metadata": {},
   "outputs": [],
   "source": [
    "import numpy as np\n",
    "import pandas as pd\n",
    "from sklearn.preprocessing import StandardScaler, MinMaxScaler\n",
    "from keras.models import Sequential\n",
    "from keras.layers import LSTM, Dense, Bidirectional"
   ]
  },
  {
   "cell_type": "code",
   "execution_count": null,
   "metadata": {},
   "outputs": [],
   "source": [
    "# read data (for now, sell_prices & calendar are not used)\n",
    "\n",
    "data_dir = 'data/'\n",
    "\n",
    "train_sales = pd.read_csv(data_dir + 'sales_train_validation.csv')\n",
    "#sell_prices = pd.read_csv(data_dir + 'sell_prices.csv')\n",
    "#calendar = pd.read_csv(data_dir + 'calendar.csv')\n",
    "submission_file = pd.read_csv(data_dir + 'sample_submission.csv')"
   ]
  },
  {
   "cell_type": "code",
   "execution_count": null,
   "metadata": {},
   "outputs": [],
   "source": [
    "def reduce_mem_usage(df, verbose=True):\n",
    "    numerics = ['int16', 'int32', 'int64', 'float16', 'float32', 'float64']\n",
    "    start_mem = df.memory_usage().sum() / 1024**2\n",
    "    for col in df.columns:\n",
    "        col_type = df[col].dtypes\n",
    "        if col_type in numerics: \n",
    "            c_min = df[col].min()\n",
    "            c_max = df[col].max()\n",
    "            if str(col_type)[:3] == 'int':\n",
    "                if c_min > np.iinfo(np.int8).min and c_max < np.iinfo(np.int8).max:\n",
    "                    df[col] = df[col].astype(np.int8)\n",
    "                elif c_min > np.iinfo(np.int16).min and c_max < np.iinfo(np.int16).max:\n",
    "                    df[col] = df[col].astype(np.int16)\n",
    "                elif c_min > np.iinfo(np.int32).min and c_max < np.iinfo(np.int32).max:\n",
    "                    df[col] = df[col].astype(np.int32)\n",
    "                elif c_min > np.iinfo(np.int64).min and c_max < np.iinfo(np.int64).max:\n",
    "                    df[col] = df[col].astype(np.int64)  \n",
    "            else:\n",
    "                if c_min > np.finfo(np.float16).min and c_max < np.finfo(np.float16).max:\n",
    "                    df[col] = df[col].astype(np.float16)\n",
    "                elif c_min > np.finfo(np.float32).min and c_max < np.finfo(np.float32).max:\n",
    "                    df[col] = df[col].astype(np.float32)\n",
    "                else:\n",
    "                    df[col] = df[col].astype(np.float64)    \n",
    "    end_mem = df.memory_usage().sum() / 1024**2\n",
    "    if verbose: print('Mem. usage decreased to {:5.2f} Mb ({:.1f}% reduction)'.format(end_mem, 100 * (start_mem - end_mem) / start_mem))\n",
    "    return df"
   ]
  },
  {
   "cell_type": "code",
   "execution_count": null,
   "metadata": {},
   "outputs": [],
   "source": [
    "train_sales = reduce_mem_usage(train_sales)"
   ]
  },
  {
   "cell_type": "code",
   "execution_count": null,
   "metadata": {},
   "outputs": [],
   "source": [
    "# create training data, for now it only contains the sales and no extra features\n",
    "sales = train_sales.drop([\"id\", \"item_id\", \"dept_id\", \"cat_id\", \"store_id\", \"state_id\"], axis=1).T\n",
    "\n",
    "# normalize\n",
    "scaler = MinMaxScaler()\n",
    "scaler.fit(sales)\n",
    "sales = scaler.transform(sales)\n",
    "sales = pd.DataFrame(sales)"
   ]
  },
  {
   "cell_type": "code",
   "execution_count": null,
   "metadata": {},
   "outputs": [],
   "source": [
    "# create X and y\n",
    "\n",
    "timesteps = 28\n",
    "prediction_steps = 1\n",
    "len_window = timesteps + prediction_steps\n",
    "\n",
    "nr_training_days = sales.shape[0]\n",
    "nr_sets = nr_training_days - len_window + 1\n",
    "\n",
    "base, predictions = [], []\n",
    "\n",
    "for i in range(nr_sets):\n",
    "    samples = sales.iloc[i:i+timesteps]\n",
    "    pred = sales.iloc[i+timesteps]\n",
    "    base.append(samples.to_numpy())\n",
    "    predictions.append(pred.to_numpy())\n",
    "    \n",
    "X = np.array(base)\n",
    "y = np.array(predictions)\n",
    "\n",
    "del base, predictions"
   ]
  },
  {
   "cell_type": "code",
   "execution_count": null,
   "metadata": {},
   "outputs": [],
   "source": [
    "# create model\n",
    "\n",
    "n_features = X.shape[2]\n",
    "\n",
    "model = Sequential()\n",
    "model.add(Bidirectional(LSTM(20, return_sequences=True, input_shape=(timesteps, n_features))))\n",
    "model.add(Bidirectional(LSTM(10)))\n",
    "model.add(Dense(30490))\n",
    "model.compile(optimizer='adam', loss='mse')"
   ]
  },
  {
   "cell_type": "code",
   "execution_count": null,
   "metadata": {},
   "outputs": [],
   "source": [
    "# train model\n",
    "\n",
    "model.fit(X, y, batch_size=32, epochs=10, verbose=1)"
   ]
  },
  {
   "cell_type": "code",
   "execution_count": null,
   "metadata": {},
   "outputs": [],
   "source": [
    "# get predictions\n",
    "\n",
    "for i in range(28):    \n",
    "    # get input for prediction by selecting last 28 days from sales\n",
    "    X_pred = []\n",
    "    X_pred.append(sales.iloc[-timesteps:].to_numpy())\n",
    "    X_pred = np.array(X_pred)\n",
    "    \n",
    "    # get prediction\n",
    "    prediction = model.predict(X_pred)\n",
    "    \n",
    "    # add prediction to sales so that it can be used for next prediction\n",
    "    sales.loc[sales.shape[0]] = prediction[0]\n",
    "    \n",
    "predictions = sales.iloc[-28:]\n",
    "predictions = scaler.inverse_transform(predictions)\n",
    "predictions = np.round(np.abs(predictions))\n",
    "predictions = pd.DataFrame(predictions).T"
   ]
  },
  {
   "cell_type": "code",
   "execution_count": null,
   "metadata": {},
   "outputs": [],
   "source": [
    "# create submission file\n",
    "predictions_copy = predictions\n",
    "final_submission = pd.concat([predictions, predictions_copy])\n",
    "final_submission.reset_index(drop=True, inplace=True)\n",
    "final_submission = final_submission.astype(int)\n",
    "final_submission.insert(0, 'id', submission_file['id'])\n",
    "final_submission.columns = ['id'] + [f\"F{i}\" for i in range(1, 29)]\n",
    "\n",
    "final_submission.to_csv('submission.csv', index=False)"
   ]
  }
 ],
 "metadata": {
  "kernelspec": {
   "display_name": "Python 3",
   "language": "python",
   "name": "python3"
  },
  "language_info": {
   "codemirror_mode": {
    "name": "ipython",
    "version": 3
   },
   "file_extension": ".py",
   "mimetype": "text/x-python",
   "name": "python",
   "nbconvert_exporter": "python",
   "pygments_lexer": "ipython3",
   "version": "3.7.6"
  }
 },
 "nbformat": 4,
 "nbformat_minor": 4
}
